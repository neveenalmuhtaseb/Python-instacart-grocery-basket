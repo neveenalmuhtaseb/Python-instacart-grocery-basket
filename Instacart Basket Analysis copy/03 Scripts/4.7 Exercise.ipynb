{
 "cells": [
  {
   "cell_type": "markdown",
   "id": "23f269e8-511d-4c38-b67d-54cee3ee135b",
   "metadata": {},
   "source": [
    "# Impot libraries"
   ]
  },
  {
   "cell_type": "code",
   "execution_count": 58,
   "id": "74e78306-6a06-45a5-884c-8658a2ce39f3",
   "metadata": {},
   "outputs": [],
   "source": [
    "import pandas as pd\n",
    "import numpy as np\n",
    "import os"
   ]
  },
  {
   "cell_type": "markdown",
   "id": "8af12c92-3927-4af3-898c-80a2f2c67182",
   "metadata": {},
   "source": [
    "# Import Data"
   ]
  },
  {
   "cell_type": "code",
   "execution_count": 60,
   "id": "0cab1469-a071-4206-8226-c14bcf471f37",
   "metadata": {},
   "outputs": [],
   "source": [
    "path=r'/Users/yasersouri/Desktop/data analysis/Instacart Basket Analysis/02 Data'"
   ]
  },
  {
   "cell_type": "code",
   "execution_count": 61,
   "id": "a5e64528-5124-4701-bf25-bf5ad73c7948",
   "metadata": {},
   "outputs": [],
   "source": [
    "df=pd.read_pickle(os.path.join(path,'Prepared Data','ords_prods_merge.pkl'))"
   ]
  },
  {
   "cell_type": "code",
   "execution_count": 62,
   "id": "094b74a7-2d3e-4ccc-86cd-98f11867ff2e",
   "metadata": {},
   "outputs": [],
   "source": [
    "df_sub=df[:1000000]"
   ]
  },
  {
   "cell_type": "code",
   "execution_count": 63,
   "id": "174499c3-50ca-48bc-8ea4-88bfe0b34700",
   "metadata": {},
   "outputs": [
    {
     "data": {
      "text/plain": [
       "(1000000, 14)"
      ]
     },
     "execution_count": 63,
     "metadata": {},
     "output_type": "execute_result"
    }
   ],
   "source": [
    "df_sub.shape"
   ]
  },
  {
   "cell_type": "markdown",
   "id": "0628f57e-8aaf-4b83-afad-60df16046f46",
   "metadata": {},
   "source": [
    "## IF Statment with User-Defind function"
   ]
  },
  {
   "cell_type": "code",
   "execution_count": 93,
   "id": "58efa5a3-331a-469b-9362-c9cc64910d64",
   "metadata": {},
   "outputs": [],
   "source": [
    "# define function (categorize the products into price ranges)\n",
    "def price_label(row):\n",
    "    if row['prices']<=5:\n",
    "        return 'low_range product'\n",
    "    elif (row['prices']>5) and (row['prices']<=15):\n",
    "        return 'mid_range prroduct'\n",
    "    elif row['prices']>15:\n",
    "        return 'high_range product'\n",
    "    else:return 'not enough data'"
   ]
  },
  {
   "cell_type": "code",
   "execution_count": 66,
   "id": "cbb1fa95-1038-4527-aa3b-b2d8f329b161",
   "metadata": {},
   "outputs": [
    {
     "name": "stderr",
     "output_type": "stream",
     "text": [
      "/var/folders/cd/8vl1s70d6dqgshpmc74wr4hw0000gn/T/ipykernel_92755/3557049718.py:2: SettingWithCopyWarning: \n",
      "A value is trying to be set on a copy of a slice from a DataFrame.\n",
      "Try using .loc[row_indexer,col_indexer] = value instead\n",
      "\n",
      "See the caveats in the documentation: https://pandas.pydata.org/pandas-docs/stable/user_guide/indexing.html#returning-a-view-versus-a-copy\n",
      "  df_sub['price_range']=df_sub.apply(price_label,axis=1)\n"
     ]
    }
   ],
   "source": [
    "# run function\n",
    "df_sub['price_range']=df_sub.apply(price_label,axis=1)"
   ]
  },
  {
   "cell_type": "code",
   "execution_count": 67,
   "id": "82241731-c4f2-4c85-a277-445aa9090a63",
   "metadata": {},
   "outputs": [
    {
     "data": {
      "text/html": [
       "<div>\n",
       "<style scoped>\n",
       "    .dataframe tbody tr th:only-of-type {\n",
       "        vertical-align: middle;\n",
       "    }\n",
       "\n",
       "    .dataframe tbody tr th {\n",
       "        vertical-align: top;\n",
       "    }\n",
       "\n",
       "    .dataframe thead th {\n",
       "        text-align: right;\n",
       "    }\n",
       "</style>\n",
       "<table border=\"1\" class=\"dataframe\">\n",
       "  <thead>\n",
       "    <tr style=\"text-align: right;\">\n",
       "      <th></th>\n",
       "      <th>order_id</th>\n",
       "      <th>user_id</th>\n",
       "      <th>user_order_number</th>\n",
       "      <th>orders_day_of_week</th>\n",
       "      <th>order_hour_of_day</th>\n",
       "      <th>days_since_prior_order</th>\n",
       "      <th>first_order</th>\n",
       "      <th>product_id</th>\n",
       "      <th>add_to_cart_order</th>\n",
       "      <th>reordered</th>\n",
       "      <th>product_name</th>\n",
       "      <th>aisle_id</th>\n",
       "      <th>department_id</th>\n",
       "      <th>prices</th>\n",
       "      <th>price_range</th>\n",
       "    </tr>\n",
       "  </thead>\n",
       "  <tbody>\n",
       "    <tr>\n",
       "      <th>0</th>\n",
       "      <td>2539329</td>\n",
       "      <td>1</td>\n",
       "      <td>1</td>\n",
       "      <td>2</td>\n",
       "      <td>8</td>\n",
       "      <td>NaN</td>\n",
       "      <td>True</td>\n",
       "      <td>196</td>\n",
       "      <td>1</td>\n",
       "      <td>0</td>\n",
       "      <td>Soda</td>\n",
       "      <td>77</td>\n",
       "      <td>7</td>\n",
       "      <td>9.0</td>\n",
       "      <td>mid_range prroduct</td>\n",
       "    </tr>\n",
       "    <tr>\n",
       "      <th>1</th>\n",
       "      <td>2539329</td>\n",
       "      <td>1</td>\n",
       "      <td>1</td>\n",
       "      <td>2</td>\n",
       "      <td>8</td>\n",
       "      <td>NaN</td>\n",
       "      <td>True</td>\n",
       "      <td>14084</td>\n",
       "      <td>2</td>\n",
       "      <td>0</td>\n",
       "      <td>Organic Unsweetened Vanilla Almond Milk</td>\n",
       "      <td>91</td>\n",
       "      <td>16</td>\n",
       "      <td>12.5</td>\n",
       "      <td>mid_range prroduct</td>\n",
       "    </tr>\n",
       "    <tr>\n",
       "      <th>2</th>\n",
       "      <td>2539329</td>\n",
       "      <td>1</td>\n",
       "      <td>1</td>\n",
       "      <td>2</td>\n",
       "      <td>8</td>\n",
       "      <td>NaN</td>\n",
       "      <td>True</td>\n",
       "      <td>12427</td>\n",
       "      <td>3</td>\n",
       "      <td>0</td>\n",
       "      <td>Original Beef Jerky</td>\n",
       "      <td>23</td>\n",
       "      <td>19</td>\n",
       "      <td>4.4</td>\n",
       "      <td>low_range product</td>\n",
       "    </tr>\n",
       "    <tr>\n",
       "      <th>3</th>\n",
       "      <td>2539329</td>\n",
       "      <td>1</td>\n",
       "      <td>1</td>\n",
       "      <td>2</td>\n",
       "      <td>8</td>\n",
       "      <td>NaN</td>\n",
       "      <td>True</td>\n",
       "      <td>26088</td>\n",
       "      <td>4</td>\n",
       "      <td>0</td>\n",
       "      <td>Aged White Cheddar Popcorn</td>\n",
       "      <td>23</td>\n",
       "      <td>19</td>\n",
       "      <td>4.7</td>\n",
       "      <td>low_range product</td>\n",
       "    </tr>\n",
       "    <tr>\n",
       "      <th>4</th>\n",
       "      <td>2539329</td>\n",
       "      <td>1</td>\n",
       "      <td>1</td>\n",
       "      <td>2</td>\n",
       "      <td>8</td>\n",
       "      <td>NaN</td>\n",
       "      <td>True</td>\n",
       "      <td>26405</td>\n",
       "      <td>5</td>\n",
       "      <td>0</td>\n",
       "      <td>XL Pick-A-Size Paper Towel Rolls</td>\n",
       "      <td>54</td>\n",
       "      <td>17</td>\n",
       "      <td>1.0</td>\n",
       "      <td>low_range product</td>\n",
       "    </tr>\n",
       "  </tbody>\n",
       "</table>\n",
       "</div>"
      ],
      "text/plain": [
       "   order_id  user_id  user_order_number  orders_day_of_week  \\\n",
       "0   2539329        1                  1                   2   \n",
       "1   2539329        1                  1                   2   \n",
       "2   2539329        1                  1                   2   \n",
       "3   2539329        1                  1                   2   \n",
       "4   2539329        1                  1                   2   \n",
       "\n",
       "   order_hour_of_day  days_since_prior_order  first_order  product_id  \\\n",
       "0                  8                     NaN         True         196   \n",
       "1                  8                     NaN         True       14084   \n",
       "2                  8                     NaN         True       12427   \n",
       "3                  8                     NaN         True       26088   \n",
       "4                  8                     NaN         True       26405   \n",
       "\n",
       "   add_to_cart_order  reordered                             product_name  \\\n",
       "0                  1          0                                     Soda   \n",
       "1                  2          0  Organic Unsweetened Vanilla Almond Milk   \n",
       "2                  3          0                      Original Beef Jerky   \n",
       "3                  4          0               Aged White Cheddar Popcorn   \n",
       "4                  5          0         XL Pick-A-Size Paper Towel Rolls   \n",
       "\n",
       "   aisle_id  department_id  prices         price_range  \n",
       "0        77              7     9.0  mid_range prroduct  \n",
       "1        91             16    12.5  mid_range prroduct  \n",
       "2        23             19     4.4   low_range product  \n",
       "3        23             19     4.7   low_range product  \n",
       "4        54             17     1.0   low_range product  "
      ]
     },
     "execution_count": 67,
     "metadata": {},
     "output_type": "execute_result"
    }
   ],
   "source": [
    "df_sub.head()"
   ]
  },
  {
   "cell_type": "code",
   "execution_count": 68,
   "id": "4ceb7e73-d57b-4166-9c88-8347f4236466",
   "metadata": {},
   "outputs": [
    {
     "data": {
      "text/plain": [
       "price_range\n",
       "mid_range prroduct    673183\n",
       "low_range product     314392\n",
       "high_range product     12425\n",
       "Name: count, dtype: int64"
      ]
     },
     "execution_count": 68,
     "metadata": {},
     "output_type": "execute_result"
    }
   ],
   "source": [
    "df_sub['price_range'].value_counts(dropna=False)"
   ]
  },
  {
   "cell_type": "code",
   "execution_count": 81,
   "id": "d13ef574-b9d4-4e89-b78f-ee22f76a15a1",
   "metadata": {},
   "outputs": [
    {
     "data": {
      "text/html": [
       "<div>\n",
       "<style scoped>\n",
       "    .dataframe tbody tr th:only-of-type {\n",
       "        vertical-align: middle;\n",
       "    }\n",
       "\n",
       "    .dataframe tbody tr th {\n",
       "        vertical-align: top;\n",
       "    }\n",
       "\n",
       "    .dataframe thead th {\n",
       "        text-align: right;\n",
       "    }\n",
       "</style>\n",
       "<table border=\"1\" class=\"dataframe\">\n",
       "  <thead>\n",
       "    <tr style=\"text-align: right;\">\n",
       "      <th></th>\n",
       "      <th>order_id</th>\n",
       "      <th>user_id</th>\n",
       "      <th>user_order_number</th>\n",
       "      <th>orders_day_of_week</th>\n",
       "      <th>order_hour_of_day</th>\n",
       "      <th>days_since_prior_order</th>\n",
       "      <th>product_id</th>\n",
       "      <th>add_to_cart_order</th>\n",
       "      <th>reordered</th>\n",
       "      <th>aisle_id</th>\n",
       "      <th>department_id</th>\n",
       "      <th>prices</th>\n",
       "    </tr>\n",
       "  </thead>\n",
       "  <tbody>\n",
       "    <tr>\n",
       "      <th>count</th>\n",
       "      <td>1.000000e+06</td>\n",
       "      <td>1000000.000000</td>\n",
       "      <td>1000000.000000</td>\n",
       "      <td>1000000.000000</td>\n",
       "      <td>1000000.000000</td>\n",
       "      <td>936384.000000</td>\n",
       "      <td>1000000.000000</td>\n",
       "      <td>1000000.000000</td>\n",
       "      <td>1000000.000000</td>\n",
       "      <td>1000000.000000</td>\n",
       "      <td>1000000.000000</td>\n",
       "      <td>1000000.000000</td>\n",
       "    </tr>\n",
       "    <tr>\n",
       "      <th>mean</th>\n",
       "      <td>1.712098e+06</td>\n",
       "      <td>3295.070459</td>\n",
       "      <td>17.313612</td>\n",
       "      <td>2.765702</td>\n",
       "      <td>13.416690</td>\n",
       "      <td>11.062006</td>\n",
       "      <td>25595.891283</td>\n",
       "      <td>8.312942</td>\n",
       "      <td>0.590985</td>\n",
       "      <td>71.058417</td>\n",
       "      <td>9.984846</td>\n",
       "      <td>11.396794</td>\n",
       "    </tr>\n",
       "    <tr>\n",
       "      <th>std</th>\n",
       "      <td>9.870102e+05</td>\n",
       "      <td>1866.882221</td>\n",
       "      <td>17.931306</td>\n",
       "      <td>2.091348</td>\n",
       "      <td>4.221497</td>\n",
       "      <td>8.811708</td>\n",
       "      <td>14077.246950</td>\n",
       "      <td>7.208310</td>\n",
       "      <td>0.491652</td>\n",
       "      <td>38.228388</td>\n",
       "      <td>6.294836</td>\n",
       "      <td>425.994349</td>\n",
       "    </tr>\n",
       "    <tr>\n",
       "      <th>min</th>\n",
       "      <td>8.000000e+00</td>\n",
       "      <td>1.000000</td>\n",
       "      <td>1.000000</td>\n",
       "      <td>0.000000</td>\n",
       "      <td>0.000000</td>\n",
       "      <td>0.000000</td>\n",
       "      <td>1.000000</td>\n",
       "      <td>1.000000</td>\n",
       "      <td>0.000000</td>\n",
       "      <td>1.000000</td>\n",
       "      <td>1.000000</td>\n",
       "      <td>1.000000</td>\n",
       "    </tr>\n",
       "    <tr>\n",
       "      <th>25%</th>\n",
       "      <td>8.620670e+05</td>\n",
       "      <td>1699.000000</td>\n",
       "      <td>5.000000</td>\n",
       "      <td>1.000000</td>\n",
       "      <td>10.000000</td>\n",
       "      <td>5.000000</td>\n",
       "      <td>13536.000000</td>\n",
       "      <td>3.000000</td>\n",
       "      <td>0.000000</td>\n",
       "      <td>31.000000</td>\n",
       "      <td>4.000000</td>\n",
       "      <td>4.200000</td>\n",
       "    </tr>\n",
       "    <tr>\n",
       "      <th>50%</th>\n",
       "      <td>1.711365e+06</td>\n",
       "      <td>3350.000000</td>\n",
       "      <td>11.000000</td>\n",
       "      <td>3.000000</td>\n",
       "      <td>13.000000</td>\n",
       "      <td>8.000000</td>\n",
       "      <td>25340.000000</td>\n",
       "      <td>6.000000</td>\n",
       "      <td>1.000000</td>\n",
       "      <td>83.000000</td>\n",
       "      <td>9.000000</td>\n",
       "      <td>7.400000</td>\n",
       "    </tr>\n",
       "    <tr>\n",
       "      <th>75%</th>\n",
       "      <td>2.563843e+06</td>\n",
       "      <td>4937.000000</td>\n",
       "      <td>24.000000</td>\n",
       "      <td>5.000000</td>\n",
       "      <td>16.000000</td>\n",
       "      <td>15.000000</td>\n",
       "      <td>37825.000000</td>\n",
       "      <td>11.000000</td>\n",
       "      <td>1.000000</td>\n",
       "      <td>107.000000</td>\n",
       "      <td>16.000000</td>\n",
       "      <td>11.300000</td>\n",
       "    </tr>\n",
       "    <tr>\n",
       "      <th>max</th>\n",
       "      <td>3.420853e+06</td>\n",
       "      <td>6474.000000</td>\n",
       "      <td>99.000000</td>\n",
       "      <td>6.000000</td>\n",
       "      <td>23.000000</td>\n",
       "      <td>30.000000</td>\n",
       "      <td>49687.000000</td>\n",
       "      <td>95.000000</td>\n",
       "      <td>1.000000</td>\n",
       "      <td>134.000000</td>\n",
       "      <td>21.000000</td>\n",
       "      <td>99999.000000</td>\n",
       "    </tr>\n",
       "  </tbody>\n",
       "</table>\n",
       "</div>"
      ],
      "text/plain": [
       "           order_id         user_id  user_order_number  orders_day_of_week  \\\n",
       "count  1.000000e+06  1000000.000000     1000000.000000      1000000.000000   \n",
       "mean   1.712098e+06     3295.070459          17.313612            2.765702   \n",
       "std    9.870102e+05     1866.882221          17.931306            2.091348   \n",
       "min    8.000000e+00        1.000000           1.000000            0.000000   \n",
       "25%    8.620670e+05     1699.000000           5.000000            1.000000   \n",
       "50%    1.711365e+06     3350.000000          11.000000            3.000000   \n",
       "75%    2.563843e+06     4937.000000          24.000000            5.000000   \n",
       "max    3.420853e+06     6474.000000          99.000000            6.000000   \n",
       "\n",
       "       order_hour_of_day  days_since_prior_order      product_id  \\\n",
       "count     1000000.000000           936384.000000  1000000.000000   \n",
       "mean           13.416690               11.062006    25595.891283   \n",
       "std             4.221497                8.811708    14077.246950   \n",
       "min             0.000000                0.000000        1.000000   \n",
       "25%            10.000000                5.000000    13536.000000   \n",
       "50%            13.000000                8.000000    25340.000000   \n",
       "75%            16.000000               15.000000    37825.000000   \n",
       "max            23.000000               30.000000    49687.000000   \n",
       "\n",
       "       add_to_cart_order       reordered        aisle_id   department_id  \\\n",
       "count     1000000.000000  1000000.000000  1000000.000000  1000000.000000   \n",
       "mean            8.312942        0.590985       71.058417        9.984846   \n",
       "std             7.208310        0.491652       38.228388        6.294836   \n",
       "min             1.000000        0.000000        1.000000        1.000000   \n",
       "25%             3.000000        0.000000       31.000000        4.000000   \n",
       "50%             6.000000        1.000000       83.000000        9.000000   \n",
       "75%            11.000000        1.000000      107.000000       16.000000   \n",
       "max            95.000000        1.000000      134.000000       21.000000   \n",
       "\n",
       "               prices  \n",
       "count  1000000.000000  \n",
       "mean        11.396794  \n",
       "std        425.994349  \n",
       "min          1.000000  \n",
       "25%          4.200000  \n",
       "50%          7.400000  \n",
       "75%         11.300000  \n",
       "max      99999.000000  "
      ]
     },
     "execution_count": 81,
     "metadata": {},
     "output_type": "execute_result"
    }
   ],
   "source": [
    "df_sub.describe()"
   ]
  },
  {
   "cell_type": "markdown",
   "id": "dfbaa321-2049-4572-ae54-63bf1733aa5b",
   "metadata": {},
   "source": [
    "## If Statement with the loc() Function"
   ]
  },
  {
   "cell_type": "code",
   "execution_count": 95,
   "id": "cd92e2fb-eaf0-4197-9ce5-2f95c3f5560f",
   "metadata": {},
   "outputs": [],
   "source": [
    "# categorize the whole dataframe products into price ranges\n",
    "df.loc[df['prices'] > 15, 'price_range_loc'] = 'High-range product'"
   ]
  },
  {
   "cell_type": "code",
   "execution_count": 86,
   "id": "82bc63e3-42ab-403a-90f3-b98c893279f3",
   "metadata": {},
   "outputs": [],
   "source": [
    "df.loc[(df['prices'] <= 15) & (df['prices'] > 5), 'price_range_loc'] = 'Mid-range product' "
   ]
  },
  {
   "cell_type": "code",
   "execution_count": 88,
   "id": "d12a7247-d851-4ef0-b834-503d2757036e",
   "metadata": {},
   "outputs": [],
   "source": [
    "df.loc[df['prices'] <= 5, 'price_range_loc'] = 'Low-range product'"
   ]
  },
  {
   "cell_type": "code",
   "execution_count": 90,
   "id": "1d26720a-14ce-4fd6-8ea8-dc30fe7e2852",
   "metadata": {},
   "outputs": [
    {
     "data": {
      "text/plain": [
       "price_range_loc\n",
       "Mid-range product     21860860\n",
       "Low-range product     10126321\n",
       "High-range product      417678\n",
       "Name: count, dtype: int64"
      ]
     },
     "execution_count": 90,
     "metadata": {},
     "output_type": "execute_result"
    }
   ],
   "source": [
    "df['price_range_loc'].value_counts()"
   ]
  },
  {
   "cell_type": "markdown",
   "id": "16286123-0a75-420c-9a21-4a85493674f5",
   "metadata": {},
   "source": [
    "## If Statement with For-Loops"
   ]
  },
  {
   "cell_type": "code",
   "execution_count": 97,
   "id": "cd1cbf4e-21c2-404d-bbbe-656c55005616",
   "metadata": {},
   "outputs": [
    {
     "data": {
      "text/plain": [
       "orders_day_of_week\n",
       "0    6204182\n",
       "1    5660230\n",
       "6    4496490\n",
       "2    4213830\n",
       "5    4205791\n",
       "3    3840534\n",
       "4    3783802\n",
       "Name: count, dtype: int64"
      ]
     },
     "execution_count": 97,
     "metadata": {},
     "output_type": "execute_result"
    }
   ],
   "source": [
    "# create a column to summarizes how busy each day of the week is\n",
    "df['orders_day_of_week'].value_counts(dropna=False)"
   ]
  },
  {
   "cell_type": "markdown",
   "id": "216041d6-9ca1-41c6-9bff-291c48308602",
   "metadata": {},
   "source": [
    " 0 means Saturday. This value has the highest frequency, meaning Saturday is the busiest day. Meanwhile, the 4 value has the lowest frequency. A value of 4, here, refers to Wednesday, meaning Wednesday is the slowest day for Instacart app orders."
   ]
  },
  {
   "cell_type": "code",
   "execution_count": 102,
   "id": "428e3001-2dc1-472b-b5e7-bb38fdea9a65",
   "metadata": {},
   "outputs": [],
   "source": [
    "result = []\n",
    "\n",
    "for value in df[\"orders_day_of_week\"]:\n",
    "  if value == 0:\n",
    "    result.append(\"Busiest day\")\n",
    "  elif value == 4:\n",
    "    result.append(\"Least busy\")\n",
    "  else:\n",
    "    result.append(\"Regularly busy\")"
   ]
  },
  {
   "cell_type": "code",
   "execution_count": 108,
   "id": "4197acfc-7948-4673-a0a4-02b3a684c080",
   "metadata": {},
   "outputs": [],
   "source": [
    "#create new column\n",
    "df['busiest day']=result"
   ]
  },
  {
   "cell_type": "code",
   "execution_count": 110,
   "id": "414a7328-0312-4c44-9428-a4a775557fe4",
   "metadata": {},
   "outputs": [
    {
     "data": {
      "text/plain": [
       "busiest day\n",
       "Regularly busy    22416875\n",
       "Busiest day        6204182\n",
       "Least busy         3783802\n",
       "Name: count, dtype: int64"
      ]
     },
     "execution_count": 110,
     "metadata": {},
     "output_type": "execute_result"
    }
   ],
   "source": [
    "df['busiest day'].value_counts(dropna=False)"
   ]
  },
  {
   "cell_type": "markdown",
   "id": "f3465096-56e0-4b62-8e7a-0efc8d0244a5",
   "metadata": {},
   "source": [
    "# Task"
   ]
  },
  {
   "cell_type": "code",
   "execution_count": 138,
   "id": "d6728981-a4c3-4186-91ba-b529c67d06d7",
   "metadata": {},
   "outputs": [],
   "source": [
    "# create column to the two busiest days and two lowest days\n",
    "result2 = []\n",
    "\n",
    "for value in df[\"orders_day_of_week\"]:\n",
    "  if (value==0) or (value==1):\n",
    "    result2.append(\"Busiest day\")\n",
    "  elif (value == 4) or (value==3):\n",
    "    result2.append(\"Least busy\")\n",
    "  else:\n",
    "    result2.append(\"Regularly busy\")"
   ]
  },
  {
   "cell_type": "code",
   "execution_count": 139,
   "id": "1960d580-f1d2-4ee7-812b-8a24cb8ecc43",
   "metadata": {},
   "outputs": [],
   "source": [
    "df['busiest days']=result2"
   ]
  },
  {
   "cell_type": "code",
   "execution_count": 141,
   "id": "bd753cd2-e680-40d8-ac4e-a84f2e9ed210",
   "metadata": {},
   "outputs": [
    {
     "data": {
      "text/plain": [
       "busiest days\n",
       "Regularly busy    12916111\n",
       "Busiest day       11864412\n",
       "Least busy         7624336\n",
       "Name: count, dtype: int64"
      ]
     },
     "execution_count": 141,
     "metadata": {},
     "output_type": "execute_result"
    }
   ],
   "source": [
    "df['busiest days'].value_counts(dropna=False)"
   ]
  },
  {
   "cell_type": "code",
   "execution_count": 144,
   "id": "cbcb9d67-4ac9-4945-a9ec-393492250255",
   "metadata": {},
   "outputs": [
    {
     "data": {
      "text/plain": [
       "order_hour_of_day\n",
       "10    2761760\n",
       "11    2736140\n",
       "14    2689136\n",
       "15    2662144\n",
       "13    2660954\n",
       "12    2618532\n",
       "16    2535202\n",
       "9     2454203\n",
       "17    2087654\n",
       "8     1718118\n",
       "18    1636502\n",
       "19    1258305\n",
       "20     976156\n",
       "7      891054\n",
       "21     795637\n",
       "22     634225\n",
       "23     402316\n",
       "6      290493\n",
       "0      218769\n",
       "1      115700\n",
       "5       87961\n",
       "2       69375\n",
       "4       53242\n",
       "3       51281\n",
       "Name: count, dtype: int64"
      ]
     },
     "execution_count": 144,
     "metadata": {},
     "output_type": "execute_result"
    }
   ],
   "source": [
    "df['order_hour_of_day'].value_counts(dropna=False)"
   ]
  },
  {
   "cell_type": "code",
   "execution_count": 146,
   "id": "31006502-7af3-402e-95ca-e2521b9a31d7",
   "metadata": {},
   "outputs": [],
   "source": [
    "# create column of the busiest_period_of_day.\n",
    "result3 = []\n",
    "\n",
    "for value in df[\"order_hour_of_day\"]:\n",
    "  if (value==10) or (value==11) or(value== 14):\n",
    "    result3.append(\"Most orders\")\n",
    "  elif (value == 4) or (value==3) or (value==2):\n",
    "    result3.append(\"Fewest orders\")\n",
    "  else:\n",
    "    result3.append(\"Average orders\")"
   ]
  },
  {
   "cell_type": "code",
   "execution_count": 148,
   "id": "a8329883-4685-448a-9f97-848123345e23",
   "metadata": {},
   "outputs": [],
   "source": [
    "df['busiest_period_of_day']=result3"
   ]
  },
  {
   "cell_type": "code",
   "execution_count": 150,
   "id": "06a2edab-aa71-4b68-9c16-f11a7396c425",
   "metadata": {},
   "outputs": [
    {
     "data": {
      "text/plain": [
       "busiest_period_of_day\n",
       "Average orders    24043925\n",
       "Most orders        8187036\n",
       "Fewest orders       173898\n",
       "Name: count, dtype: int64"
      ]
     },
     "execution_count": 150,
     "metadata": {},
     "output_type": "execute_result"
    }
   ],
   "source": [
    "df['busiest_period_of_day'].value_counts(dropna=False)"
   ]
  },
  {
   "cell_type": "markdown",
   "id": "c56baa0d-3b25-4833-ba3e-816572dd96eb",
   "metadata": {},
   "source": [
    "# Export data"
   ]
  },
  {
   "cell_type": "code",
   "execution_count": 153,
   "id": "a7fedf8d-0f6a-435a-92f0-2a9b4361c71f",
   "metadata": {},
   "outputs": [],
   "source": [
    "df.to_pickle(os.path.join(path,'Prepared Data','new_column_df.pkl'))"
   ]
  },
  {
   "cell_type": "code",
   "execution_count": null,
   "id": "a69583be-b4a6-4cd3-be66-6733dd317136",
   "metadata": {},
   "outputs": [],
   "source": []
  }
 ],
 "metadata": {
  "kernelspec": {
   "display_name": "Python [conda env:base] *",
   "language": "python",
   "name": "conda-base-py"
  },
  "language_info": {
   "codemirror_mode": {
    "name": "ipython",
    "version": 3
   },
   "file_extension": ".py",
   "mimetype": "text/x-python",
   "name": "python",
   "nbconvert_exporter": "python",
   "pygments_lexer": "ipython3",
   "version": "3.12.7"
  }
 },
 "nbformat": 4,
 "nbformat_minor": 5
}
