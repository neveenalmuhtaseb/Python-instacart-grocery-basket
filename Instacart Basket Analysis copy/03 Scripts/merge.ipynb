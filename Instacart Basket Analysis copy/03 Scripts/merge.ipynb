{
 "cells": [
  {
   "cell_type": "code",
   "execution_count": 12,
   "id": "cd66e027-6ab4-4aa1-b821-bf181442c9e1",
   "metadata": {},
   "outputs": [],
   "source": [
    "import pandas as pd\n",
    "import numpy as np\n",
    "import os\n",
    "import matplotlib.pyplot as plt  \n",
    "import seaborn as sns  \n",
    "import scipy "
   ]
  },
  {
   "cell_type": "code",
   "execution_count": 13,
   "id": "43f39ccf-70ab-4775-9976-924560b2386c",
   "metadata": {},
   "outputs": [],
   "source": [
    "df=pd.read_pickle(r'/Users/yasersouri/Desktop/new_df2.pkl')"
   ]
  },
  {
   "cell_type": "code",
   "execution_count": 14,
   "id": "5ac4b5d5-d94a-4cdf-affc-49bfffad90c3",
   "metadata": {},
   "outputs": [],
   "source": [
    "df_dep=pd.read_csv(r'/Users/yasersouri/Desktop/data analysis/Instacart Basket Analysis/02 Data/Prepared Data/departments_wrangled.csv')"
   ]
  },
  {
   "cell_type": "code",
   "execution_count": 15,
   "id": "b490c327-8fa7-4470-b7ce-05125bccc350",
   "metadata": {},
   "outputs": [
    {
     "data": {
      "text/plain": [
       "Index(['Unnamed: 0', 'department'], dtype='object')"
      ]
     },
     "execution_count": 15,
     "metadata": {},
     "output_type": "execute_result"
    }
   ],
   "source": [
    "df_dep.columns"
   ]
  },
  {
   "cell_type": "code",
   "execution_count": 16,
   "id": "00f891b2-bd6f-4003-903d-3541479f29d7",
   "metadata": {},
   "outputs": [],
   "source": [
    "df_dep.rename(columns={'Unnamed: 0':'department_id'},inplace=True)"
   ]
  },
  {
   "cell_type": "code",
   "execution_count": 17,
   "id": "546a6f79-f4c8-477c-b05e-7be11fe764e9",
   "metadata": {},
   "outputs": [],
   "source": [
    "df['department_id']=df['department_id'].astype('str')"
   ]
  },
  {
   "cell_type": "code",
   "execution_count": 18,
   "id": "07694da2-25d7-4c61-90bd-9269e1472bb2",
   "metadata": {},
   "outputs": [],
   "source": [
    "df_dep['department_id']=df_dep['department_id'].astype('str')"
   ]
  },
  {
   "cell_type": "code",
   "execution_count": 19,
   "id": "29035c51-5a33-401e-8019-302173c7b03d",
   "metadata": {},
   "outputs": [],
   "source": [
    "df_new=df.merge(df_dep,on='department_id')"
   ]
  },
  {
   "cell_type": "code",
   "execution_count": 20,
   "id": "ad232b32-ad33-4d8c-a94d-3eed7379c5d6",
   "metadata": {},
   "outputs": [],
   "source": [
    "df_new.to_pickle(r'/Users/yasersouri/Desktop/new_df3.pkl')"
   ]
  },
  {
   "cell_type": "code",
   "execution_count": null,
   "id": "8c9b1465-a8d9-48ff-b831-34d161fffcd2",
   "metadata": {},
   "outputs": [],
   "source": []
  }
 ],
 "metadata": {
  "kernelspec": {
   "display_name": "Python [conda env:base] *",
   "language": "python",
   "name": "conda-base-py"
  },
  "language_info": {
   "codemirror_mode": {
    "name": "ipython",
    "version": 3
   },
   "file_extension": ".py",
   "mimetype": "text/x-python",
   "name": "python",
   "nbconvert_exporter": "python",
   "pygments_lexer": "ipython3",
   "version": "3.12.7"
  }
 },
 "nbformat": 4,
 "nbformat_minor": 5
}
