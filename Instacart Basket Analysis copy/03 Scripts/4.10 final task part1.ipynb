{
 "cells": [
  {
   "cell_type": "markdown",
   "id": "bf7d7460-b09d-4a64-b5cf-1c11aa1a99ec",
   "metadata": {},
   "source": [
    "# 4.10 Instacart Final Task\n",
    "\n",
    "### Contents\n",
    "#### 1. Import Libraries and Dataframes\n",
    "#### 2. Create regional segmentation of data\n",
    "#### 3. Determine whether there’s a difference in spending habits between the different U.S. regions\n",
    "#### 4. Create an exclusion flag for low-activity customers\n",
    "#### 5. Customer profiling\n",
    "#### 6. Aggregate the max, mean, and min variables on a customer-profile level for usage frequency and expenditure\n",
    "#### 7. Compare customer profiles with regions and departments\n",
    "#### 8. orders by day of week\n",
    "#### 9. orders by hour of day\n",
    "#### 10. loyalty vs. family status\n",
    "#### 11. loyalty vs. dependant"
   ]
  },
  {
   "cell_type": "markdown",
   "id": "a42bec05-8fbb-4160-b390-88ef7cdd8105",
   "metadata": {},
   "source": [
    "# Import Libraries"
   ]
  },
  {
   "cell_type": "code",
   "execution_count": 4,
   "id": "4f050467-0431-47d1-abc0-e4fd22fec8c3",
   "metadata": {},
   "outputs": [],
   "source": [
    "import pandas as pd\n",
    "import numpy as np\n",
    "import os\n",
    "import matplotlib.pyplot as plt  \n",
    "import seaborn as sns  \n",
    "import scipy  "
   ]
  },
  {
   "cell_type": "markdown",
   "id": "4d245b72-1063-4df8-b2c5-7d2d6d25ea5c",
   "metadata": {},
   "source": [
    "# Import Data"
   ]
  },
  {
   "cell_type": "code",
   "execution_count": 31,
   "id": "735a7f8b-7c19-4c49-93ea-29edd74bc7f6",
   "metadata": {},
   "outputs": [],
   "source": [
    "df=pd.read_pickle(r'/Users/yasersouri/Desktop/data analysis/Instacart Basket Analysis/02 Data/Prepared Data/df.pkl')"
   ]
  },
  {
   "cell_type": "markdown",
   "id": "8ef291be-63f0-433b-a5fa-cd8513f412c5",
   "metadata": {},
   "source": [
    "Identifying personally identifiable information (PII):\n",
    "\n",
    "Colmuns of 'first_name', 'surname' are identified as PII."
   ]
  },
  {
   "cell_type": "markdown",
   "id": "9ebaafca-286c-49a5-9034-51e893dd51dd",
   "metadata": {
    "jp-MarkdownHeadingCollapsed": true
   },
   "source": [
    "## Create a “Region” column based on the “State” column"
   ]
  },
  {
   "cell_type": "code",
   "execution_count": 34,
   "id": "eb3e3254-a67e-4721-90c1-f10685eb82c9",
   "metadata": {},
   "outputs": [
    {
     "data": {
      "text/plain": [
       "state\n",
       "Pennsylvania            667082\n",
       "California              659783\n",
       "Rhode Island            656913\n",
       "Georgia                 656389\n",
       "New Mexico              654494\n",
       "Arizona                 653964\n",
       "North Carolina          651900\n",
       "Oklahoma                651739\n",
       "Alaska                  648495\n",
       "Minnesota               647825\n",
       "Massachusetts           646358\n",
       "Wyoming                 644255\n",
       "Virginia                641421\n",
       "Missouri                640732\n",
       "Texas                   640394\n",
       "Colorado                639280\n",
       "Maine                   638583\n",
       "North Dakota            638491\n",
       "Alabama                 638003\n",
       "Kansas                  637538\n",
       "Louisiana               637482\n",
       "Delaware                637024\n",
       "South Carolina          636754\n",
       "Oregon                  636425\n",
       "Arkansas                636144\n",
       "Nevada                  636139\n",
       "New York                635983\n",
       "Montana                 635265\n",
       "South Dakota            633772\n",
       "Illinois                633024\n",
       "Hawaii                  632901\n",
       "Washington              632852\n",
       "Mississippi             632675\n",
       "Kentucky                632490\n",
       "Michigan                630928\n",
       "Florida                 629027\n",
       "Ohio                    628319\n",
       "Wisconsin               628108\n",
       "New Jersey              627692\n",
       "Indiana                 627282\n",
       "Maryland                626579\n",
       "Nebraska                625813\n",
       "Iowa                    625493\n",
       "Connecticut             623022\n",
       "Tennessee               617873\n",
       "New Hampshire           615378\n",
       "District of Columbia    613695\n",
       "West Virginia           612296\n",
       "Utah                    611941\n",
       "Vermont                 611725\n",
       "Idaho                   607119\n",
       "Name: count, dtype: int64"
      ]
     },
     "execution_count": 34,
     "metadata": {},
     "output_type": "execute_result"
    }
   ],
   "source": [
    "df['state'].value_counts()"
   ]
  },
  {
   "cell_type": "code",
   "execution_count": 35,
   "id": "c792fa1c-64dd-4d4a-b123-438b6a14b83f",
   "metadata": {},
   "outputs": [],
   "source": [
    "# Assign northeast region\n",
    "\n",
    "df.loc[ df ['state'] == 'Maine', 'region'] = 'Northeast'\n",
    "df.loc[ df ['state'] == 'New Hampshire', 'region'] = 'Northeast'\n",
    "df.loc[ df ['state'] == 'Vermont', 'region'] = 'Northeast'\n",
    "df.loc[ df ['state'] == 'Pennsylvania', 'region'] = 'Northeast'\n",
    "df.loc[ df ['state'] == 'Massachusetts', 'region'] = 'Northeast'\n",
    "df.loc[ df ['state'] == 'Rhode Island', 'region'] = 'Northeast'\n",
    "df.loc[ df ['state'] == 'Connecticut', 'region'] = 'Northeast'\n",
    "df.loc[ df ['state'] == 'New York', 'region'] = 'Northeast'\n",
    "df.loc[ df ['state'] == 'New Jersey', 'region'] = 'Northeast'"
   ]
  },
  {
   "cell_type": "code",
   "execution_count": 36,
   "id": "d82931d3-8fce-4861-9d67-42654470c88f",
   "metadata": {},
   "outputs": [],
   "source": [
    "# Assign midwest region\n",
    "\n",
    "df.loc[ df ['state'] == 'Wisconsin', 'region'] = 'Midwest'\n",
    "df.loc[ df ['state'] == 'Michigan', 'region'] = 'Midwest'\n",
    "df.loc[ df ['state'] == 'Illinois', 'region'] = 'Midwest'\n",
    "df.loc[ df ['state'] == 'Indiana', 'region'] = 'Midwest'\n",
    "df.loc[ df ['state'] == 'Ohio', 'region'] = 'Midwest'\n",
    "df.loc[ df ['state'] == 'North Dakota', 'region'] = 'Midwest'\n",
    "df.loc[ df ['state'] == 'South Dakota', 'region'] = 'Midwest'\n",
    "df.loc[ df ['state'] == 'Nebraska', 'region'] = 'Midwest'\n",
    "df.loc[ df ['state'] == 'Kansas', 'region'] = 'Midwest'\n",
    "df.loc[ df ['state'] == 'Minnesota', 'region'] = 'Midwest'\n",
    "df.loc[ df ['state'] == 'Iowa', 'region'] = 'Midwest'\n",
    "df.loc[ df ['state'] == 'Missouri', 'region'] = 'Midwest'"
   ]
  },
  {
   "cell_type": "code",
   "execution_count": 37,
   "id": "5f16eb82-664a-401e-9bc8-15dca9149a60",
   "metadata": {},
   "outputs": [],
   "source": [
    "# Assign south region\n",
    "\n",
    "df.loc[ df ['state'] == 'Delaware', 'region'] = 'South'\n",
    "df.loc[ df ['state'] == 'Maryland', 'region'] = 'South'\n",
    "df.loc[ df ['state'] == 'District of Columbia', 'region'] = 'South'\n",
    "df.loc[ df ['state'] == 'Virginia', 'region'] = 'South'\n",
    "df.loc[ df ['state'] == 'West Virginia', 'region'] = 'South'\n",
    "df.loc[ df ['state'] == 'North Carolina', 'region'] = 'South'\n",
    "df.loc[ df ['state'] == 'South Carolina', 'region'] = 'South'\n",
    "df.loc[ df ['state'] == 'Georgia', 'region'] = 'South'\n",
    "df.loc[ df ['state'] == 'Florida', 'region'] = 'South'\n",
    "df.loc[ df ['state'] == 'Kentucky', 'region'] = 'South'\n",
    "df.loc[ df ['state'] == 'Tennessee', 'region'] = 'South'\n",
    "df.loc[ df ['state'] == 'Mississippi', 'region'] = 'South'\n",
    "df.loc[ df ['state'] == 'Alabama', 'region'] = 'South'\n",
    "df.loc[ df ['state'] == 'Oklahoma', 'region'] = 'South'\n",
    "df.loc[ df ['state'] == 'Texas', 'region'] = 'South'\n",
    "df.loc[ df ['state'] == 'Arkansas', 'region'] = 'South'\n",
    "df.loc[ df ['state'] == 'Louisiana', 'region'] = 'South'"
   ]
  },
  {
   "cell_type": "code",
   "execution_count": 38,
   "id": "a800e9d1-579b-4284-a9ed-124a74a92055",
   "metadata": {},
   "outputs": [],
   "source": [
    "# Assign west region\n",
    "\n",
    "df.loc[ df ['state'] == 'Idaho', 'region'] = 'West'\n",
    "df.loc[ df ['state'] == 'Montana', 'region'] = 'West'\n",
    "df.loc[ df ['state'] == 'Wyoming', 'region'] = 'West'\n",
    "df.loc[ df ['state'] == 'Nevada', 'region'] = 'West'\n",
    "df.loc[ df ['state'] == 'Utah', 'region'] = 'West'\n",
    "df.loc[ df ['state'] == 'Colorado', 'region'] = 'West'\n",
    "df.loc[ df ['state'] == 'Arizona', 'region'] = 'West'\n",
    "df.loc[ df ['state'] == 'New Mexico', 'region'] = 'West'\n",
    "df.loc[ df ['state'] == 'Alaska', 'region'] = 'West'\n",
    "df.loc[ df ['state'] == 'Washington', 'region'] = 'West'\n",
    "df.loc[ df ['state'] == 'Oregon', 'region'] = 'West'\n",
    "df.loc[ df ['state'] == 'California', 'region'] = 'West'\n",
    "df.loc[ df ['state'] == 'Hawaii', 'region'] = 'West'"
   ]
  },
  {
   "cell_type": "code",
   "execution_count": 39,
   "id": "9566c700-4118-43c7-860a-250af1cac7ea",
   "metadata": {},
   "outputs": [
    {
     "data": {
      "text/plain": [
       "region\n",
       "South        10791885\n",
       "West          8292913\n",
       "Midwest       7597325\n",
       "Northeast     5722736\n",
       "Name: count, dtype: int64"
      ]
     },
     "execution_count": 39,
     "metadata": {},
     "output_type": "execute_result"
    }
   ],
   "source": [
    "# check output\n",
    "\n",
    "df['region'].value_counts(dropna = False)"
   ]
  },
  {
   "cell_type": "markdown",
   "id": "0749082b-af7d-44e8-a836-670be8ec7627",
   "metadata": {
    "jp-MarkdownHeadingCollapsed": true
   },
   "source": [
    "## Determine whether there’s a difference in spending habits between the different U.S. regions."
   ]
  },
  {
   "cell_type": "code",
   "execution_count": 41,
   "id": "303360c0-71b3-423d-a349-1f2ab1dfb672",
   "metadata": {},
   "outputs": [
    {
     "data": {
      "image/png": "[encoded data removed]",
      "text/plain": [
       "<Figure size 640x480 with 1 Axes>"
      ]
     },
     "metadata": {},
     "output_type": "display_data"
    }
   ],
   "source": [
    "bar=df['region'].value_counts().plot.bar(color=['red','orange','yellow','green'])"
   ]
  },
  {
   "cell_type": "markdown",
   "id": "e93cd5ec-2ef2-4bf4-afb0-6578bf1f8ce3",
   "metadata": {},
   "source": [
    "spending in the south region is the highest and lowest in northwest\n",
    "((the south region contains the most states among all the regions))"
   ]
  },
  {
   "cell_type": "code",
   "execution_count": 43,
   "id": "605a5041-73ec-407d-8218-363874b2ba2b",
   "metadata": {},
   "outputs": [],
   "source": [
    "#export chart\n",
    "bar.figure.savefig(r'/Users/yasersouri/Desktop/data analysis/Instacart Basket Analysis/04 Analysis/Visualizations/region_bar.png')"
   ]
  },
  {
   "cell_type": "markdown",
   "id": "7b841acc-74a6-42db-9d66-5895bf2d0a9d",
   "metadata": {},
   "source": [
    "## Create an exclusion flag for low-activity customers (customers with less than 5 orders)"
   ]
  },
  {
   "cell_type": "code",
   "execution_count": 45,
   "id": "8043abd5-1d32-4108-80d4-f7c60dc769de",
   "metadata": {},
   "outputs": [],
   "source": [
    "#create activity flag\n",
    "df.loc[ df ['max_order'] <5 , 'activity_flag'] = 'low-activity customer'\n",
    "df.loc[ df['max_order'] >= 5, 'activity_flag'] = 'high-activity customer'"
   ]
  },
  {
   "cell_type": "code",
   "execution_count": 46,
   "id": "664a3388-d1dd-41ef-96bd-a9f5aee2ce7f",
   "metadata": {},
   "outputs": [
    {
     "data": {
      "text/plain": [
       "activity_flag\n",
       "high-activity customer    30964564\n",
       "low-activity customer      1440295\n",
       "Name: count, dtype: int64"
      ]
     },
     "execution_count": 46,
     "metadata": {},
     "output_type": "execute_result"
    }
   ],
   "source": [
    "# check value counts\n",
    "\n",
    "df['activity_flag'].value_counts(dropna = False)"
   ]
  },
  {
   "cell_type": "code",
   "execution_count": 47,
   "id": "647d4f9e-7a40-4962-9c27-018d5c76097f",
   "metadata": {},
   "outputs": [],
   "source": [
    "# exclude the low-activity customers from the dataframe\n",
    "\n",
    "df_new = df[df['activity_flag'] == 'high-activity customer']"
   ]
  },
  {
   "cell_type": "code",
   "execution_count": 79,
   "id": "8c479760-b108-49be-8702-f70037ada4dd",
   "metadata": {},
   "outputs": [],
   "source": [
    "# export the new dataframe\n",
    "\n",
    "df_new.to_pickle(r'/Users/yasersouri/Desktop/new_df2.pkl')"
   ]
  },
  {
   "cell_type": "markdown",
   "id": "e06320f9-a8c7-4075-af98-e7b321f01964",
   "metadata": {},
   "source": [
    "## Create a profiling variable based on age, income, certain goods in the “department_id” column, and number of dependents."
   ]
  },
  {
   "cell_type": "code",
   "execution_count": 50,
   "id": "5c48f453-1689-48fd-8be5-9c6562e4e1ae",
   "metadata": {},
   "outputs": [
    {
     "name": "stderr",
     "output_type": "stream",
     "text": [
      "/var/folders/cd/8vl1s70d6dqgshpmc74wr4hw0000gn/T/ipykernel_54165/126582490.py:3: SettingWithCopyWarning: \n",
      "A value is trying to be set on a copy of a slice from a DataFrame.\n",
      "Try using .loc[row_indexer,col_indexer] = value instead\n",
      "\n",
      "See the caveats in the documentation: https://pandas.pydata.org/pandas-docs/stable/user_guide/indexing.html#returning-a-view-versus-a-copy\n",
      "  df_new.loc[df_new['income'] <= 55000, 'income_group'] = 'low-income'\n"
     ]
    }
   ],
   "source": [
    "# Create an income group variable based on the income levels in the dataframe\n",
    "# Assign 'low-income' to individuals with income less than or equal to 55,000\n",
    "df_new.loc[df_new['income'] <= 55000, 'income_group'] = 'low-income'\n",
    "\n",
    "# Assign 'middle-income' to individuals with income between 55,001 and 150,000\n",
    "df_new.loc[(df_new['income'] > 55000) & (df_new['income'] <= 150000), 'income_group'] = 'middle-income'\n",
    "\n",
    "# Assign 'high-income' to individuals with income greater than 150,000\n",
    "df_new.loc[df_new['income'] > 150000, 'income_group'] = 'high-income'"
   ]
  },
  {
   "cell_type": "code",
   "execution_count": 51,
   "id": "9582b887-72e6-41df-a60a-b2547591216e",
   "metadata": {},
   "outputs": [
    {
     "data": {
      "text/plain": [
       "income_group\n",
       "middle-income    22617642\n",
       "low-income        4452388\n",
       "high-income       3894534\n",
       "Name: count, dtype: int64"
      ]
     },
     "execution_count": 51,
     "metadata": {},
     "output_type": "execute_result"
    }
   ],
   "source": [
    "# Check the counts of income groups\n",
    "\n",
    "df_new['income_group'].value_counts(dropna = False)"
   ]
  },
  {
   "cell_type": "code",
   "execution_count": 52,
   "id": "9eb32bdd-9325-4c4e-aeab-2299e2000cc6",
   "metadata": {
    "scrolled": true
   },
   "outputs": [
    {
     "data": {
      "image/png": "[encoded data removed]",
      "text/plain": [
       "<Figure size 640x480 with 1 Axes>"
      ]
     },
     "metadata": {},
     "output_type": "display_data"
    }
   ],
   "source": [
    "# Make a bar chart showing the distribution of income groups\n",
    "\n",
    "income_group_counts = df_new['income_group'].value_counts(dropna=False)\n",
    "\n",
    "# Create a bar chart from the income group counts\n",
    "income_group_distribution_bar = income_group_counts.plot.bar(color=['red','yellow','green']) \n"
   ]
  },
  {
   "cell_type": "code",
   "execution_count": 53,
   "id": "83a525a5-6f12-46f4-94d4-d368633f4930",
   "metadata": {},
   "outputs": [],
   "source": [
    "#export chart\n",
    "income_group_distribution_bar.figure.savefig(r'/Users/yasersouri/Desktop/data analysis/Instacart Basket Analysis/04 Analysis/Visualizations/income_bar.png')"
   ]
  },
  {
   "cell_type": "code",
   "execution_count": 75,
   "id": "07dd0799-9360-415a-9170-32178d0c857b",
   "metadata": {
    "scrolled": true
   },
   "outputs": [
    {
     "name": "stderr",
     "output_type": "stream",
     "text": [
      "/var/folders/cd/8vl1s70d6dqgshpmc74wr4hw0000gn/T/ipykernel_54165/874289341.py:3: SettingWithCopyWarning: \n",
      "A value is trying to be set on a copy of a slice from a DataFrame.\n",
      "Try using .loc[row_indexer,col_indexer] = value instead\n",
      "\n",
      "See the caveats in the documentation: https://pandas.pydata.org/pandas-docs/stable/user_guide/indexing.html#returning-a-view-versus-a-copy\n",
      "  df_new.loc[df_new['age'] <= 25, 'age_group'] = 'young adult'\n"
     ]
    }
   ],
   "source": [
    "# Create an age group variable based on the 'age' column in the DataFrame\n",
    "# Assign 'young adult' to individuals aged 25 or younger\n",
    "df_new.loc[df_new['age'] <= 25, 'age_group'] = 'young adult'\n",
    "\n",
    "# Assign 'adult' to individuals aged between 26 and 44\n",
    "df_new.loc[(df_new['age'] > 25) & (df_new3['age'] <= 44), 'age_group'] = 'adult'\n",
    "\n",
    "# Assign 'middle-aged' to individuals aged between 45 and 64\n",
    "df_new.loc[(df_new['age'] > 44) & (df_new3['age'] <= 64), 'age_group'] = 'middle-aged'\n",
    "\n",
    "# Assign 'senior' to individuals aged 65 and older\n",
    "df_new.loc[df_new['age'] > 64, 'age_group'] = 'senior'"
   ]
  },
  {
   "cell_type": "code",
   "execution_count": 77,
   "id": "7e365ba3-35b5-4f13-95b4-2fc17d7b4325",
   "metadata": {},
   "outputs": [
    {
     "data": {
      "text/plain": [
       "age_group\n",
       "middle-aged    9690051\n",
       "adult          9214451\n",
       "senior         8195544\n",
       "young adult    3864518\n",
       "Name: count, dtype: int64"
      ]
     },
     "execution_count": 77,
     "metadata": {},
     "output_type": "execute_result"
    }
   ],
   "source": [
    "# Check value counts for each age group\n",
    "\n",
    "age_group_counts=df_new3['age_group'].value_counts(dropna = False)\n",
    "age_group_counts\n"
   ]
  },
  {
   "cell_type": "code",
   "execution_count": 56,
   "id": "8892fa64-5e44-4bd9-9844-ba286baad091",
   "metadata": {
    "scrolled": true
   },
   "outputs": [
    {
     "data": {
      "image/png": "[encoded data removed]",
      "text/plain": [
       "<Figure size 640x480 with 1 Axes>"
      ]
     },
     "metadata": {},
     "output_type": "display_data"
    }
   ],
   "source": [
    "\n",
    "    # Create the bar chart\n",
    "    age_group_bar=age_group_counts.plot.bar(color=['red','orange','yellow','green'])\n",
    "    \n",
    "    # Set chart title and labels\n",
    "    plt.title('Age Group Distribution')\n",
    "    plt.xlabel('Age Groups')\n",
    "    plt.ylabel('Frequency')\n",
    "    plt.show()"
   ]
  },
  {
   "cell_type": "code",
   "execution_count": 57,
   "id": "9ab9e05a-dac9-4ecd-b904-1fe7034af338",
   "metadata": {},
   "outputs": [
    {
     "name": "stderr",
     "output_type": "stream",
     "text": [
      "/var/folders/cd/8vl1s70d6dqgshpmc74wr4hw0000gn/T/ipykernel_54165/836735001.py:3: SettingWithCopyWarning: \n",
      "A value is trying to be set on a copy of a slice from a DataFrame.\n",
      "Try using .loc[row_indexer,col_indexer] = value instead\n",
      "\n",
      "See the caveats in the documentation: https://pandas.pydata.org/pandas-docs/stable/user_guide/indexing.html#returning-a-view-versus-a-copy\n",
      "  df_new.loc[df_new['n_dependants'] == 0, 'dependants_flag'] = 'no dependants'\n"
     ]
    }
   ],
   "source": [
    "# Create a dependents flag\n",
    "# Set the 'dependants_flag' to 'no dependants' for rows where 'n_dependants' is 0\n",
    "df_new.loc[df_new['n_dependants'] == 0, 'dependants_flag'] = 'no dependants'\n",
    "\n",
    "# Set the 'dependants_flag' to 'has dependants' for rows where 'n_dependants' is 1 or more\n",
    "df_new.loc[df_new['n_dependants'] >= 1, 'dependants_flag'] = 'has dependants'"
   ]
  },
  {
   "cell_type": "code",
   "execution_count": 58,
   "id": "4ebc7b0d-6ad5-4a4b-800b-650087fccf85",
   "metadata": {},
   "outputs": [
    {
     "data": {
      "text/plain": [
       "dependants_flag\n",
       "has dependants    23224883\n",
       "no dependants      7739681\n",
       "Name: count, dtype: int64"
      ]
     },
     "execution_count": 58,
     "metadata": {},
     "output_type": "execute_result"
    }
   ],
   "source": [
    "# Check value counts for the 'dependants_flag' column in the DataFrame\n",
    "\n",
    "dependants_counts=df_new['dependants_flag'].value_counts(dropna=False)\n",
    "dependants_counts"
   ]
  },
  {
   "cell_type": "code",
   "execution_count": 59,
   "id": "202e9093-9d07-4058-beb7-54c50c0ba66c",
   "metadata": {},
   "outputs": [
    {
     "data": {
      "image/png": "[encoded data removed]",
      "text/plain": [
       "<Figure size 640x480 with 1 Axes>"
      ]
     },
     "metadata": {},
     "output_type": "display_data"
    }
   ],
   "source": [
    "# Make a pie chart showing the percentage of dependants\n",
    "\n",
    "dependants_pie = dependants_counts.plot.pie(\n",
    "    autopct='%1.1f%%',  # Format the percentage display on the pie chart\n",
    "    labels=['has dependants', 'no dependants'],  # Labels for the pie chart sections\n",
    "    startangle=90,  # Start the pie chart at a 90-degree angle\n",
    "    colors=['red', 'green']) # Define colors for the pie chart sections\n"
   ]
  },
  {
   "cell_type": "code",
   "execution_count": 60,
   "id": "782182e1-65fa-4096-9c56-95ee723640de",
   "metadata": {},
   "outputs": [],
   "source": [
    "# export pie\n",
    "dependants_pie.figure.savefig(r'/Users/yasersouri/Desktop/data analysis/Instacart Basket Analysis/04 Analysis/Visualizations/dependants_pie.png')"
   ]
  },
  {
   "cell_type": "code",
   "execution_count": 61,
   "id": "870ed258-8580-4ca0-a048-275d2d8f9a29",
   "metadata": {},
   "outputs": [],
   "source": [
    "# export age_group_bar\n",
    "age_group_bar.figure.savefig(r'/Users/yasersouri/Desktop/data analysis/Instacart Basket Analysis/04 Analysis/Visualizations/age_group_bar.png')"
   ]
  },
  {
   "cell_type": "markdown",
   "id": "fd5ec86b-02f1-4991-9850-997454aca72f",
   "metadata": {},
   "source": [
    "## loyalty vs. age groups"
   ]
  },
  {
   "cell_type": "code",
   "execution_count": 81,
   "id": "afce145e-79e7-42fc-8a59-d583166b188c",
   "metadata": {},
   "outputs": [
    {
     "data": {
      "text/html": [
       "<div>\n",
       "<style scoped>\n",
       "    .dataframe tbody tr th:only-of-type {\n",
       "        vertical-align: middle;\n",
       "    }\n",
       "\n",
       "    .dataframe tbody tr th {\n",
       "        vertical-align: top;\n",
       "    }\n",
       "\n",
       "    .dataframe thead th {\n",
       "        text-align: right;\n",
       "    }\n",
       "</style>\n",
       "<table border=\"1\" class=\"dataframe\">\n",
       "  <thead>\n",
       "    <tr style=\"text-align: right;\">\n",
       "      <th>age_group</th>\n",
       "      <th>adult</th>\n",
       "      <th>middle-aged</th>\n",
       "      <th>senior</th>\n",
       "      <th>young adult</th>\n",
       "      <th>NaN</th>\n",
       "    </tr>\n",
       "    <tr>\n",
       "      <th>loyalty_flag</th>\n",
       "      <th></th>\n",
       "      <th></th>\n",
       "      <th></th>\n",
       "      <th></th>\n",
       "      <th></th>\n",
       "    </tr>\n",
       "  </thead>\n",
       "  <tbody>\n",
       "    <tr>\n",
       "      <th>Loyal customer</th>\n",
       "      <td>1246666</td>\n",
       "      <td>2277956</td>\n",
       "      <td>2723958</td>\n",
       "      <td>1280451</td>\n",
       "      <td>2755062</td>\n",
       "    </tr>\n",
       "    <tr>\n",
       "      <th>New customer</th>\n",
       "      <td>570808</td>\n",
       "      <td>1054954</td>\n",
       "      <td>1276659</td>\n",
       "      <td>599858</td>\n",
       "      <td>1301416</td>\n",
       "    </tr>\n",
       "    <tr>\n",
       "      <th>Regular customer</th>\n",
       "      <td>1919199</td>\n",
       "      <td>3481867</td>\n",
       "      <td>4194927</td>\n",
       "      <td>1984209</td>\n",
       "      <td>4296574</td>\n",
       "    </tr>\n",
       "  </tbody>\n",
       "</table>\n",
       "</div>"
      ],
      "text/plain": [
       "age_group           adult  middle-aged   senior  young adult      NaN\n",
       "loyalty_flag                                                         \n",
       "Loyal customer    1246666      2277956  2723958      1280451  2755062\n",
       "New customer       570808      1054954  1276659       599858  1301416\n",
       "Regular customer  1919199      3481867  4194927      1984209  4296574"
      ]
     },
     "execution_count": 81,
     "metadata": {},
     "output_type": "execute_result"
    }
   ],
   "source": [
    "# Crosstab loyalty with age group\n",
    "loyalty_age_cross = pd.crosstab(df_new['loyalty_flag'], df_new['age_group'], dropna = False)\n",
    "loyalty_age_cross"
   ]
  },
  {
   "cell_type": "code",
   "execution_count": 83,
   "id": "6dea9f64-cbb0-4c4a-92ca-6f940f7f3b69",
   "metadata": {},
   "outputs": [
    {
     "data": {
      "text/plain": [
       "(array([0, 1, 2]),\n",
       " [Text(0, 0, 'Loyal customer'),\n",
       "  Text(1, 0, 'New customer'),\n",
       "  Text(2, 0, 'Regular customer')])"
      ]
     },
     "execution_count": 83,
     "metadata": {},
     "output_type": "execute_result"
    },
    {
     "data": {
      "image/png": "[encoded data removed]",
      "text/plain": [
       "<Figure size 640x480 with 1 Axes>"
      ]
     },
     "metadata": {},
     "output_type": "display_data"
    }
   ],
   "source": [
    "# bar chart\n",
    "loyalty_age_bar = loyalty_age_cross.plot.bar()\n",
    "plt.title('Loyalty by Age Group')\n",
    "plt.xlabel('')\n",
    "plt.ylabel('count')\n",
    "plt.xticks(rotation=0)"
   ]
  },
  {
   "cell_type": "markdown",
   "id": "9255d31d-a48b-47ab-b314-af43ed869c6c",
   "metadata": {},
   "source": [
    "loyalty is higher among middle-aged customers"
   ]
  },
  {
   "cell_type": "code",
   "execution_count": null,
   "id": "daf19181-63f1-4e88-abec-d70b4ba54977",
   "metadata": {},
   "outputs": [],
   "source": [
    "#export bar chart\n",
    "loyalty_age_bar.figure.savefig(r'/Users/yasersouri/Desktop/data analysis/Instacart Basket Analysis/04 Analysis/Visualizations/loyalty_age_fig.png')"
   ]
  },
  {
   "cell_type": "markdown",
   "id": "41634a7f-2e3d-49da-83d3-a7004789497d",
   "metadata": {
    "jp-MarkdownHeadingCollapsed": true
   },
   "source": [
    "## income vs. loyalty"
   ]
  },
  {
   "cell_type": "code",
   "execution_count": null,
   "id": "03d0e4d5-db2d-4abe-be0d-8c3b12a68621",
   "metadata": {},
   "outputs": [],
   "source": [
    "# Crosstab loyalty with age group\n",
    "loyalty_income_cross = pd.crosstab(df_new['loyalty_flag'], df_new['income_group'], dropna = False)\n",
    "loyalty_age_cross"
   ]
  },
  {
   "cell_type": "code",
   "execution_count": null,
   "id": "f597b890-876b-43fe-957b-049cdc3a1d1b",
   "metadata": {},
   "outputs": [],
   "source": [
    "# bar chart\n",
    "loyalty_income_bar = loyalty_income_cross.plot.bar()\n",
    "plt.title('Loyalty by income Group')\n",
    "plt.xlabel('')\n",
    "plt.ylabel('count')\n",
    "plt.xticks(rotation=0)"
   ]
  },
  {
   "cell_type": "markdown",
   "id": "fafa0623-cb90-498b-9823-8152bd9af85b",
   "metadata": {},
   "source": [
    "loyalty is higher among middle-income customers"
   ]
  },
  {
   "cell_type": "code",
   "execution_count": null,
   "id": "ad34c084-2cb5-4520-bd3b-c0870408189a",
   "metadata": {},
   "outputs": [],
   "source": [
    "#export bar chart\n",
    "loyalty_income_bar.figure.savefig(r'/Users/yasersouri/Desktop/data analysis/Instacart Basket Analysis/04 Analysis/Visualizations/loyalty_income_bar.png')"
   ]
  },
  {
   "cell_type": "markdown",
   "id": "9684467d-19df-4055-9cfb-57d47e8e7b67",
   "metadata": {},
   "source": [
    "## orders by department"
   ]
  },
  {
   "cell_type": "code",
   "execution_count": 6,
   "id": "6d9a7b41-c21c-4492-b7e8-9038e3e3339f",
   "metadata": {},
   "outputs": [],
   "source": [
    "#import new dataframe combined with departments dataframe\n",
    "df_new3=pd.read_pickle(r'/Users/yasersouri/Desktop/new_df3.pkl')"
   ]
  },
  {
   "cell_type": "code",
   "execution_count": 6,
   "id": "c4d0e032-79e9-4b40-ad13-37bda174bfda",
   "metadata": {},
   "outputs": [
    {
     "data": {
      "image/png": "[encoded data removed]",
      "text/plain": [
       "<Figure size 640x480 with 1 Axes>"
      ]
     },
     "metadata": {},
     "output_type": "display_data"
    }
   ],
   "source": [
    "# bar chart frequency of orders vs department\n",
    "depts_bar = df_new3['department'].value_counts(ascending=True).plot.bar(color='darkred')"
   ]
  },
  {
   "cell_type": "code",
   "execution_count": 8,
   "id": "cba6c21c-075c-4e07-9e3b-0cf9c221f335",
   "metadata": {},
   "outputs": [],
   "source": [
    "#export bar chart\n",
    "depts_bar.figure.savefig(r'/Users/yasersouri/Desktop/data analysis/Instacart Basket Analysis/04 Analysis/Visualizations/depts_orders_bar.png')"
   ]
  },
  {
   "cell_type": "markdown",
   "id": "f9432640-39ce-478d-b92d-570b971b5fea",
   "metadata": {},
   "source": [
    "produce products are the highest orders followed by dairy eggs"
   ]
  },
  {
   "cell_type": "markdown",
   "id": "1d415bdf-ccf7-4afb-933f-8fab0a23def7",
   "metadata": {
    "jp-MarkdownHeadingCollapsed": true
   },
   "source": [
    "## Age vs. departments"
   ]
  },
  {
   "cell_type": "code",
   "execution_count": 10,
   "id": "5695341a-b6e6-4997-a779-90a6fc0d4e0a",
   "metadata": {},
   "outputs": [
    {
     "data": {
      "text/html": [
       "<div>\n",
       "<style scoped>\n",
       "    .dataframe tbody tr th:only-of-type {\n",
       "        vertical-align: middle;\n",
       "    }\n",
       "\n",
       "    .dataframe tbody tr th {\n",
       "        vertical-align: top;\n",
       "    }\n",
       "\n",
       "    .dataframe thead th {\n",
       "        text-align: right;\n",
       "    }\n",
       "</style>\n",
       "<table border=\"1\" class=\"dataframe\">\n",
       "  <thead>\n",
       "    <tr style=\"text-align: right;\">\n",
       "      <th>department</th>\n",
       "      <th>alcohol</th>\n",
       "      <th>babies</th>\n",
       "      <th>bakery</th>\n",
       "      <th>beverages</th>\n",
       "      <th>breakfast</th>\n",
       "      <th>bulk</th>\n",
       "      <th>canned goods</th>\n",
       "      <th>dairy eggs</th>\n",
       "      <th>deli</th>\n",
       "      <th>dry goods pasta</th>\n",
       "      <th>...</th>\n",
       "      <th>household</th>\n",
       "      <th>international</th>\n",
       "      <th>meat seafood</th>\n",
       "      <th>missing</th>\n",
       "      <th>other</th>\n",
       "      <th>pantry</th>\n",
       "      <th>personal care</th>\n",
       "      <th>pets</th>\n",
       "      <th>produce</th>\n",
       "      <th>snacks</th>\n",
       "    </tr>\n",
       "    <tr>\n",
       "      <th>age_group</th>\n",
       "      <th></th>\n",
       "      <th></th>\n",
       "      <th></th>\n",
       "      <th></th>\n",
       "      <th></th>\n",
       "      <th></th>\n",
       "      <th></th>\n",
       "      <th></th>\n",
       "      <th></th>\n",
       "      <th></th>\n",
       "      <th></th>\n",
       "      <th></th>\n",
       "      <th></th>\n",
       "      <th></th>\n",
       "      <th></th>\n",
       "      <th></th>\n",
       "      <th></th>\n",
       "      <th></th>\n",
       "      <th></th>\n",
       "      <th></th>\n",
       "      <th></th>\n",
       "    </tr>\n",
       "  </thead>\n",
       "  <tbody>\n",
       "    <tr>\n",
       "      <th>adult</th>\n",
       "      <td>18083</td>\n",
       "      <td>48490</td>\n",
       "      <td>136311</td>\n",
       "      <td>306989</td>\n",
       "      <td>80713</td>\n",
       "      <td>3926</td>\n",
       "      <td>121374</td>\n",
       "      <td>627519</td>\n",
       "      <td>121725</td>\n",
       "      <td>97645</td>\n",
       "      <td>...</td>\n",
       "      <td>84083</td>\n",
       "      <td>31419</td>\n",
       "      <td>80128</td>\n",
       "      <td>7828</td>\n",
       "      <td>4236</td>\n",
       "      <td>214933</td>\n",
       "      <td>51470</td>\n",
       "      <td>10507</td>\n",
       "      <td>1101907</td>\n",
       "      <td>334256</td>\n",
       "    </tr>\n",
       "    <tr>\n",
       "      <th>middle-aged</th>\n",
       "      <td>32747</td>\n",
       "      <td>92235</td>\n",
       "      <td>248107</td>\n",
       "      <td>571752</td>\n",
       "      <td>148487</td>\n",
       "      <td>7236</td>\n",
       "      <td>221889</td>\n",
       "      <td>1135552</td>\n",
       "      <td>221681</td>\n",
       "      <td>180841</td>\n",
       "      <td>...</td>\n",
       "      <td>153894</td>\n",
       "      <td>55968</td>\n",
       "      <td>147618</td>\n",
       "      <td>14437</td>\n",
       "      <td>7594</td>\n",
       "      <td>392344</td>\n",
       "      <td>95486</td>\n",
       "      <td>19740</td>\n",
       "      <td>1988842</td>\n",
       "      <td>609528</td>\n",
       "    </tr>\n",
       "    <tr>\n",
       "      <th>senior</th>\n",
       "      <td>36693</td>\n",
       "      <td>106204</td>\n",
       "      <td>295997</td>\n",
       "      <td>684020</td>\n",
       "      <td>175296</td>\n",
       "      <td>8945</td>\n",
       "      <td>267509</td>\n",
       "      <td>1368072</td>\n",
       "      <td>265199</td>\n",
       "      <td>217316</td>\n",
       "      <td>...</td>\n",
       "      <td>186630</td>\n",
       "      <td>67199</td>\n",
       "      <td>181150</td>\n",
       "      <td>16915</td>\n",
       "      <td>8946</td>\n",
       "      <td>472383</td>\n",
       "      <td>111052</td>\n",
       "      <td>25115</td>\n",
       "      <td>2408104</td>\n",
       "      <td>728549</td>\n",
       "    </tr>\n",
       "    <tr>\n",
       "      <th>young adult</th>\n",
       "      <td>19188</td>\n",
       "      <td>51234</td>\n",
       "      <td>139873</td>\n",
       "      <td>318343</td>\n",
       "      <td>85477</td>\n",
       "      <td>4306</td>\n",
       "      <td>126312</td>\n",
       "      <td>647493</td>\n",
       "      <td>124555</td>\n",
       "      <td>104198</td>\n",
       "      <td>...</td>\n",
       "      <td>86814</td>\n",
       "      <td>32374</td>\n",
       "      <td>84580</td>\n",
       "      <td>8383</td>\n",
       "      <td>4456</td>\n",
       "      <td>222086</td>\n",
       "      <td>52996</td>\n",
       "      <td>12618</td>\n",
       "      <td>1127726</td>\n",
       "      <td>345616</td>\n",
       "    </tr>\n",
       "    <tr>\n",
       "      <th>NaN</th>\n",
       "      <td>37916</td>\n",
       "      <td>112229</td>\n",
       "      <td>300540</td>\n",
       "      <td>690797</td>\n",
       "      <td>180877</td>\n",
       "      <td>9038</td>\n",
       "      <td>274990</td>\n",
       "      <td>1398546</td>\n",
       "      <td>270674</td>\n",
       "      <td>222136</td>\n",
       "      <td>...</td>\n",
       "      <td>188436</td>\n",
       "      <td>69031</td>\n",
       "      <td>181305</td>\n",
       "      <td>17205</td>\n",
       "      <td>9179</td>\n",
       "      <td>480959</td>\n",
       "      <td>113302</td>\n",
       "      <td>25080</td>\n",
       "      <td>2452694</td>\n",
       "      <td>748457</td>\n",
       "    </tr>\n",
       "  </tbody>\n",
       "</table>\n",
       "<p>5 rows × 21 columns</p>\n",
       "</div>"
      ],
      "text/plain": [
       "department   alcohol  babies  bakery  beverages  breakfast  bulk  \\\n",
       "age_group                                                          \n",
       "adult          18083   48490  136311     306989      80713  3926   \n",
       "middle-aged    32747   92235  248107     571752     148487  7236   \n",
       "senior         36693  106204  295997     684020     175296  8945   \n",
       "young adult    19188   51234  139873     318343      85477  4306   \n",
       "NaN            37916  112229  300540     690797     180877  9038   \n",
       "\n",
       "department   canned goods  dairy eggs    deli  dry goods pasta  ...  \\\n",
       "age_group                                                       ...   \n",
       "adult              121374      627519  121725            97645  ...   \n",
       "middle-aged        221889     1135552  221681           180841  ...   \n",
       "senior             267509     1368072  265199           217316  ...   \n",
       "young adult        126312      647493  124555           104198  ...   \n",
       "NaN                274990     1398546  270674           222136  ...   \n",
       "\n",
       "department   household  international  meat seafood  missing  other  pantry  \\\n",
       "age_group                                                                     \n",
       "adult            84083          31419         80128     7828   4236  214933   \n",
       "middle-aged     153894          55968        147618    14437   7594  392344   \n",
       "senior          186630          67199        181150    16915   8946  472383   \n",
       "young adult      86814          32374         84580     8383   4456  222086   \n",
       "NaN             188436          69031        181305    17205   9179  480959   \n",
       "\n",
       "department   personal care   pets  produce  snacks  \n",
       "age_group                                           \n",
       "adult                51470  10507  1101907  334256  \n",
       "middle-aged          95486  19740  1988842  609528  \n",
       "senior              111052  25115  2408104  728549  \n",
       "young adult          52996  12618  1127726  345616  \n",
       "NaN                 113302  25080  2452694  748457  \n",
       "\n",
       "[5 rows x 21 columns]"
      ]
     },
     "execution_count": 10,
     "metadata": {},
     "output_type": "execute_result"
    }
   ],
   "source": [
    "# crosstab age group vs department\n",
    "age_dept_cross = pd.crosstab(df_new3['age_group'], df_new3['department'], dropna = False)\n",
    "age_dept_cross"
   ]
  },
  {
   "cell_type": "code",
   "execution_count": 28,
   "id": "145ae7ad-55ab-4c59-8ac7-3a2174aefc73",
   "metadata": {},
   "outputs": [
    {
     "data": {
      "text/plain": [
       "<matplotlib.legend.Legend at 0x14beb8470>"
      ]
     },
     "execution_count": 28,
     "metadata": {},
     "output_type": "execute_result"
    },
    {
     "data": {
      "image/png": "[encoded data removed]",
      "text/plain": [
       "<Figure size 1200x800 with 1 Axes>"
      ]
     },
     "metadata": {},
     "output_type": "display_data"
    }
   ],
   "source": [
    "# bar chart\n",
    "age_dept_bar = age_dept_cross.plot.bar(figsize=(12,8))\n",
    "plt.legend(title='Department', bbox_to_anchor=(1.05, 1), loc='upper left', fontsize=8, title_fontsize=10)"
   ]
  },
  {
   "cell_type": "code",
   "execution_count": 31,
   "id": "b7504559-02e8-452f-80af-b45bfbcadb72",
   "metadata": {},
   "outputs": [],
   "source": [
    "#export bar chart\n",
    "age_dept_bar.figure.savefig(r'/Users/yasersouri/Desktop/data analysis/Instacart Basket Analysis/04 Analysis/Visualizations/depts_age_bar.png')"
   ]
  },
  {
   "cell_type": "markdown",
   "id": "4eae4461-d22a-4758-ad1a-ade6c43a375e",
   "metadata": {
    "jp-MarkdownHeadingCollapsed": true
   },
   "source": [
    "## Income vs. department"
   ]
  },
  {
   "cell_type": "code",
   "execution_count": 37,
   "id": "db295515-d21b-4fa4-9cc3-83d8ffa84ca2",
   "metadata": {},
   "outputs": [
    {
     "data": {
      "text/html": [
       "<div>\n",
       "<style scoped>\n",
       "    .dataframe tbody tr th:only-of-type {\n",
       "        vertical-align: middle;\n",
       "    }\n",
       "\n",
       "    .dataframe tbody tr th {\n",
       "        vertical-align: top;\n",
       "    }\n",
       "\n",
       "    .dataframe thead th {\n",
       "        text-align: right;\n",
       "    }\n",
       "</style>\n",
       "<table border=\"1\" class=\"dataframe\">\n",
       "  <thead>\n",
       "    <tr style=\"text-align: right;\">\n",
       "      <th>department</th>\n",
       "      <th>alcohol</th>\n",
       "      <th>babies</th>\n",
       "      <th>bakery</th>\n",
       "      <th>beverages</th>\n",
       "      <th>breakfast</th>\n",
       "      <th>bulk</th>\n",
       "      <th>canned goods</th>\n",
       "      <th>dairy eggs</th>\n",
       "      <th>deli</th>\n",
       "      <th>dry goods pasta</th>\n",
       "      <th>...</th>\n",
       "      <th>household</th>\n",
       "      <th>international</th>\n",
       "      <th>meat seafood</th>\n",
       "      <th>missing</th>\n",
       "      <th>other</th>\n",
       "      <th>pantry</th>\n",
       "      <th>personal care</th>\n",
       "      <th>pets</th>\n",
       "      <th>produce</th>\n",
       "      <th>snacks</th>\n",
       "    </tr>\n",
       "    <tr>\n",
       "      <th>income_group</th>\n",
       "      <th></th>\n",
       "      <th></th>\n",
       "      <th></th>\n",
       "      <th></th>\n",
       "      <th></th>\n",
       "      <th></th>\n",
       "      <th></th>\n",
       "      <th></th>\n",
       "      <th></th>\n",
       "      <th></th>\n",
       "      <th></th>\n",
       "      <th></th>\n",
       "      <th></th>\n",
       "      <th></th>\n",
       "      <th></th>\n",
       "      <th></th>\n",
       "      <th></th>\n",
       "      <th></th>\n",
       "      <th></th>\n",
       "      <th></th>\n",
       "      <th></th>\n",
       "    </tr>\n",
       "  </thead>\n",
       "  <tbody>\n",
       "    <tr>\n",
       "      <th>high-income</th>\n",
       "      <td>24067</td>\n",
       "      <td>53001</td>\n",
       "      <td>148430</td>\n",
       "      <td>313325</td>\n",
       "      <td>83418</td>\n",
       "      <td>3671</td>\n",
       "      <td>132389</td>\n",
       "      <td>659149</td>\n",
       "      <td>125886</td>\n",
       "      <td>106335</td>\n",
       "      <td>...</td>\n",
       "      <td>92674</td>\n",
       "      <td>32822</td>\n",
       "      <td>91514</td>\n",
       "      <td>8253</td>\n",
       "      <td>4554</td>\n",
       "      <td>231915</td>\n",
       "      <td>53530</td>\n",
       "      <td>12991</td>\n",
       "      <td>1134490</td>\n",
       "      <td>305779</td>\n",
       "    </tr>\n",
       "    <tr>\n",
       "      <th>low-income</th>\n",
       "      <td>22199</td>\n",
       "      <td>43438</td>\n",
       "      <td>144086</td>\n",
       "      <td>479742</td>\n",
       "      <td>116540</td>\n",
       "      <td>5974</td>\n",
       "      <td>112945</td>\n",
       "      <td>680816</td>\n",
       "      <td>141758</td>\n",
       "      <td>92401</td>\n",
       "      <td>...</td>\n",
       "      <td>111508</td>\n",
       "      <td>30240</td>\n",
       "      <td>54717</td>\n",
       "      <td>8902</td>\n",
       "      <td>4958</td>\n",
       "      <td>226221</td>\n",
       "      <td>62888</td>\n",
       "      <td>11782</td>\n",
       "      <td>1139552</td>\n",
       "      <td>673753</td>\n",
       "    </tr>\n",
       "    <tr>\n",
       "      <th>middle-income</th>\n",
       "      <td>98361</td>\n",
       "      <td>313953</td>\n",
       "      <td>828312</td>\n",
       "      <td>1778834</td>\n",
       "      <td>470892</td>\n",
       "      <td>23806</td>\n",
       "      <td>766740</td>\n",
       "      <td>3837217</td>\n",
       "      <td>736190</td>\n",
       "      <td>623400</td>\n",
       "      <td>...</td>\n",
       "      <td>495675</td>\n",
       "      <td>192929</td>\n",
       "      <td>528550</td>\n",
       "      <td>47613</td>\n",
       "      <td>24899</td>\n",
       "      <td>1324569</td>\n",
       "      <td>307888</td>\n",
       "      <td>68287</td>\n",
       "      <td>6805231</td>\n",
       "      <td>1786874</td>\n",
       "    </tr>\n",
       "  </tbody>\n",
       "</table>\n",
       "<p>3 rows × 21 columns</p>\n",
       "</div>"
      ],
      "text/plain": [
       "department     alcohol  babies  bakery  beverages  breakfast   bulk  \\\n",
       "income_group                                                          \n",
       "high-income      24067   53001  148430     313325      83418   3671   \n",
       "low-income       22199   43438  144086     479742     116540   5974   \n",
       "middle-income    98361  313953  828312    1778834     470892  23806   \n",
       "\n",
       "department     canned goods  dairy eggs    deli  dry goods pasta  ...  \\\n",
       "income_group                                                      ...   \n",
       "high-income          132389      659149  125886           106335  ...   \n",
       "low-income           112945      680816  141758            92401  ...   \n",
       "middle-income        766740     3837217  736190           623400  ...   \n",
       "\n",
       "department     household  international  meat seafood  missing  other  \\\n",
       "income_group                                                            \n",
       "high-income        92674          32822         91514     8253   4554   \n",
       "low-income        111508          30240         54717     8902   4958   \n",
       "middle-income     495675         192929        528550    47613  24899   \n",
       "\n",
       "department      pantry  personal care   pets  produce   snacks  \n",
       "income_group                                                    \n",
       "high-income     231915          53530  12991  1134490   305779  \n",
       "low-income      226221          62888  11782  1139552   673753  \n",
       "middle-income  1324569         307888  68287  6805231  1786874  \n",
       "\n",
       "[3 rows x 21 columns]"
      ]
     },
     "execution_count": 37,
     "metadata": {},
     "output_type": "execute_result"
    }
   ],
   "source": [
    "# crosstab income group vs department\n",
    "income_dept_cross = pd.crosstab(df_new3['income_group'], df_new3['department'], dropna = False)\n",
    "income_dept_cross"
   ]
  },
  {
   "cell_type": "code",
   "execution_count": 47,
   "id": "a21e7b74-798e-4c8c-8870-e40247d0e5ad",
   "metadata": {},
   "outputs": [
    {
     "data": {
      "text/plain": [
       "<matplotlib.legend.Legend at 0x14d400470>"
      ]
     },
     "execution_count": 47,
     "metadata": {},
     "output_type": "execute_result"
    },
    {
     "data": {
      "image/png": "[encoded data removed]",
      "text/plain": [
       "<Figure size 800x800 with 1 Axes>"
      ]
     },
     "metadata": {},
     "output_type": "display_data"
    }
   ],
   "source": [
    "# bar chart\n",
    "income_dept_bar = income_dept_cross.plot.bar(figsize=(8,8))\n",
    "plt.legend(title='Department', bbox_to_anchor=(1.05, 1), loc='upper left', fontsize=8, title_fontsize=10)"
   ]
  },
  {
   "cell_type": "code",
   "execution_count": 49,
   "id": "9cf27207-7d4a-42c5-a5ce-e32c7c4ed4b7",
   "metadata": {},
   "outputs": [],
   "source": [
    "#export bar chart\n",
    "income_dept_bar.figure.savefig(r'/Users/yasersouri/Desktop/data analysis/Instacart Basket Analysis/04 Analysis/Visualizations/depts_income_bar.png')"
   ]
  },
  {
   "cell_type": "markdown",
   "id": "ff85ccdd-a884-4eb5-b122-8c17d9a892a9",
   "metadata": {
    "jp-MarkdownHeadingCollapsed": true
   },
   "source": [
    "## Aggregate the max, mean, and min variables on a customer-profile level"
   ]
  },
  {
   "cell_type": "code",
   "execution_count": 58,
   "id": "bbdaca18-c010-4f0b-926d-e167f6d0764c",
   "metadata": {},
   "outputs": [],
   "source": [
    "# Create a subset of customer profiles and show the total price of each order\n",
    "customer_profile = df_new3.groupby(['user_id', 'gender', 'state', 'region', 'n_dependants', 'family_status', 'age_group', 'user_order_number', 'orders_day_of_week', 'order_hour_of_day', 'loyalty_flag', 'dependants_flag', 'income_group', 'spending_flag','frequency_flag'])['prices'].sum().reset_index()\n"
   ]
  },
  {
   "cell_type": "code",
   "execution_count": 60,
   "id": "f7eb7855-f274-4e07-8afd-f602dc576e4f",
   "metadata": {},
   "outputs": [
    {
     "data": {
      "text/html": [
       "<div>\n",
       "<style scoped>\n",
       "    .dataframe tbody tr th:only-of-type {\n",
       "        vertical-align: middle;\n",
       "    }\n",
       "\n",
       "    .dataframe tbody tr th {\n",
       "        vertical-align: top;\n",
       "    }\n",
       "\n",
       "    .dataframe thead th {\n",
       "        text-align: right;\n",
       "    }\n",
       "</style>\n",
       "<table border=\"1\" class=\"dataframe\">\n",
       "  <thead>\n",
       "    <tr style=\"text-align: right;\">\n",
       "      <th></th>\n",
       "      <th>user_id</th>\n",
       "      <th>gender</th>\n",
       "      <th>state</th>\n",
       "      <th>region</th>\n",
       "      <th>n_dependants</th>\n",
       "      <th>family_status</th>\n",
       "      <th>age_group</th>\n",
       "      <th>user_order_number</th>\n",
       "      <th>orders_day_of_week</th>\n",
       "      <th>order_hour_of_day</th>\n",
       "      <th>loyalty_flag</th>\n",
       "      <th>dependants_flag</th>\n",
       "      <th>income_group</th>\n",
       "      <th>spending_flag</th>\n",
       "      <th>frequency_flag</th>\n",
       "      <th>prices</th>\n",
       "    </tr>\n",
       "  </thead>\n",
       "  <tbody>\n",
       "    <tr>\n",
       "      <th>0</th>\n",
       "      <td>1</td>\n",
       "      <td>Female</td>\n",
       "      <td>Alabama</td>\n",
       "      <td>South</td>\n",
       "      <td>3</td>\n",
       "      <td>married</td>\n",
       "      <td>adult</td>\n",
       "      <td>1</td>\n",
       "      <td>2</td>\n",
       "      <td>8</td>\n",
       "      <td>New customer</td>\n",
       "      <td>has dependants</td>\n",
       "      <td>low-income</td>\n",
       "      <td>Low Spender</td>\n",
       "      <td>Frequent customer</td>\n",
       "      <td>31.6</td>\n",
       "    </tr>\n",
       "    <tr>\n",
       "      <th>1</th>\n",
       "      <td>1</td>\n",
       "      <td>Female</td>\n",
       "      <td>Alabama</td>\n",
       "      <td>South</td>\n",
       "      <td>3</td>\n",
       "      <td>married</td>\n",
       "      <td>adult</td>\n",
       "      <td>2</td>\n",
       "      <td>3</td>\n",
       "      <td>7</td>\n",
       "      <td>New customer</td>\n",
       "      <td>has dependants</td>\n",
       "      <td>low-income</td>\n",
       "      <td>Low Spender</td>\n",
       "      <td>Frequent customer</td>\n",
       "      <td>35.4</td>\n",
       "    </tr>\n",
       "    <tr>\n",
       "      <th>2</th>\n",
       "      <td>1</td>\n",
       "      <td>Female</td>\n",
       "      <td>Alabama</td>\n",
       "      <td>South</td>\n",
       "      <td>3</td>\n",
       "      <td>married</td>\n",
       "      <td>adult</td>\n",
       "      <td>3</td>\n",
       "      <td>3</td>\n",
       "      <td>12</td>\n",
       "      <td>New customer</td>\n",
       "      <td>has dependants</td>\n",
       "      <td>low-income</td>\n",
       "      <td>Low Spender</td>\n",
       "      <td>Frequent customer</td>\n",
       "      <td>28.2</td>\n",
       "    </tr>\n",
       "    <tr>\n",
       "      <th>3</th>\n",
       "      <td>1</td>\n",
       "      <td>Female</td>\n",
       "      <td>Alabama</td>\n",
       "      <td>South</td>\n",
       "      <td>3</td>\n",
       "      <td>married</td>\n",
       "      <td>adult</td>\n",
       "      <td>4</td>\n",
       "      <td>4</td>\n",
       "      <td>7</td>\n",
       "      <td>New customer</td>\n",
       "      <td>has dependants</td>\n",
       "      <td>low-income</td>\n",
       "      <td>Low Spender</td>\n",
       "      <td>Frequent customer</td>\n",
       "      <td>26.0</td>\n",
       "    </tr>\n",
       "    <tr>\n",
       "      <th>4</th>\n",
       "      <td>1</td>\n",
       "      <td>Female</td>\n",
       "      <td>Alabama</td>\n",
       "      <td>South</td>\n",
       "      <td>3</td>\n",
       "      <td>married</td>\n",
       "      <td>adult</td>\n",
       "      <td>5</td>\n",
       "      <td>4</td>\n",
       "      <td>15</td>\n",
       "      <td>New customer</td>\n",
       "      <td>has dependants</td>\n",
       "      <td>low-income</td>\n",
       "      <td>Low Spender</td>\n",
       "      <td>Frequent customer</td>\n",
       "      <td>57.0</td>\n",
       "    </tr>\n",
       "  </tbody>\n",
       "</table>\n",
       "</div>"
      ],
      "text/plain": [
       "  user_id  gender    state region  n_dependants family_status age_group  \\\n",
       "0       1  Female  Alabama  South             3       married     adult   \n",
       "1       1  Female  Alabama  South             3       married     adult   \n",
       "2       1  Female  Alabama  South             3       married     adult   \n",
       "3       1  Female  Alabama  South             3       married     adult   \n",
       "4       1  Female  Alabama  South             3       married     adult   \n",
       "\n",
       "   user_order_number  orders_day_of_week  order_hour_of_day  loyalty_flag  \\\n",
       "0                  1                   2                  8  New customer   \n",
       "1                  2                   3                  7  New customer   \n",
       "2                  3                   3                 12  New customer   \n",
       "3                  4                   4                  7  New customer   \n",
       "4                  5                   4                 15  New customer   \n",
       "\n",
       "  dependants_flag income_group spending_flag     frequency_flag  prices  \n",
       "0  has dependants   low-income   Low Spender  Frequent customer    31.6  \n",
       "1  has dependants   low-income   Low Spender  Frequent customer    35.4  \n",
       "2  has dependants   low-income   Low Spender  Frequent customer    28.2  \n",
       "3  has dependants   low-income   Low Spender  Frequent customer    26.0  \n",
       "4  has dependants   low-income   Low Spender  Frequent customer    57.0  "
      ]
     },
     "execution_count": 60,
     "metadata": {},
     "output_type": "execute_result"
    }
   ],
   "source": [
    "customer_profile.head()"
   ]
  },
  {
   "cell_type": "code",
   "execution_count": 62,
   "id": "2f9ec3c8-4f13-4293-839b-cd7d0d9f2d98",
   "metadata": {},
   "outputs": [],
   "source": [
    "# Aggregate variables for customer profiles for expenditure\n",
    "customer_agg = customer_profile.groupby('user_id').agg({'user_order_number': ['max', 'min', 'mean'], 'prices': ['max', 'min', 'mean']})"
   ]
  },
  {
   "cell_type": "code",
   "execution_count": 66,
   "id": "0d1e6c61-0b77-4407-85b1-328ac299414f",
   "metadata": {},
   "outputs": [
    {
     "data": {
      "text/html": [
       "<div>\n",
       "<style scoped>\n",
       "    .dataframe tbody tr th:only-of-type {\n",
       "        vertical-align: middle;\n",
       "    }\n",
       "\n",
       "    .dataframe tbody tr th {\n",
       "        vertical-align: top;\n",
       "    }\n",
       "\n",
       "    .dataframe thead tr th {\n",
       "        text-align: left;\n",
       "    }\n",
       "\n",
       "    .dataframe thead tr:last-of-type th {\n",
       "        text-align: right;\n",
       "    }\n",
       "</style>\n",
       "<table border=\"1\" class=\"dataframe\">\n",
       "  <thead>\n",
       "    <tr>\n",
       "      <th></th>\n",
       "      <th colspan=\"3\" halign=\"left\">user_order_number</th>\n",
       "      <th colspan=\"3\" halign=\"left\">prices</th>\n",
       "    </tr>\n",
       "    <tr>\n",
       "      <th></th>\n",
       "      <th>max</th>\n",
       "      <th>min</th>\n",
       "      <th>mean</th>\n",
       "      <th>max</th>\n",
       "      <th>min</th>\n",
       "      <th>mean</th>\n",
       "    </tr>\n",
       "    <tr>\n",
       "      <th>user_id</th>\n",
       "      <th></th>\n",
       "      <th></th>\n",
       "      <th></th>\n",
       "      <th></th>\n",
       "      <th></th>\n",
       "      <th></th>\n",
       "    </tr>\n",
       "  </thead>\n",
       "  <tbody>\n",
       "    <tr>\n",
       "      <th>1</th>\n",
       "      <td>10</td>\n",
       "      <td>1</td>\n",
       "      <td>5.500000</td>\n",
       "      <td>63.1</td>\n",
       "      <td>25.0</td>\n",
       "      <td>37.570000</td>\n",
       "    </tr>\n",
       "    <tr>\n",
       "      <th>100</th>\n",
       "      <td>5</td>\n",
       "      <td>1</td>\n",
       "      <td>3.000000</td>\n",
       "      <td>97.6</td>\n",
       "      <td>23.4</td>\n",
       "      <td>53.240000</td>\n",
       "    </tr>\n",
       "    <tr>\n",
       "      <th>1000</th>\n",
       "      <td>7</td>\n",
       "      <td>1</td>\n",
       "      <td>4.000000</td>\n",
       "      <td>134.4</td>\n",
       "      <td>112.9</td>\n",
       "      <td>123.714286</td>\n",
       "    </tr>\n",
       "    <tr>\n",
       "      <th>10000</th>\n",
       "      <td>72</td>\n",
       "      <td>1</td>\n",
       "      <td>36.811321</td>\n",
       "      <td>272.3</td>\n",
       "      <td>17.3</td>\n",
       "      <td>112.473585</td>\n",
       "    </tr>\n",
       "    <tr>\n",
       "      <th>100000</th>\n",
       "      <td>9</td>\n",
       "      <td>1</td>\n",
       "      <td>5.000000</td>\n",
       "      <td>247.4</td>\n",
       "      <td>44.9</td>\n",
       "      <td>102.844444</td>\n",
       "    </tr>\n",
       "  </tbody>\n",
       "</table>\n",
       "</div>"
      ],
      "text/plain": [
       "        user_order_number                prices                   \n",
       "                      max min       mean    max    min        mean\n",
       "user_id                                                           \n",
       "1                      10   1   5.500000   63.1   25.0   37.570000\n",
       "100                     5   1   3.000000   97.6   23.4   53.240000\n",
       "1000                    7   1   4.000000  134.4  112.9  123.714286\n",
       "10000                  72   1  36.811321  272.3   17.3  112.473585\n",
       "100000                  9   1   5.000000  247.4   44.9  102.844444"
      ]
     },
     "execution_count": 66,
     "metadata": {},
     "output_type": "execute_result"
    }
   ],
   "source": [
    "customer_agg.head()"
   ]
  },
  {
   "cell_type": "code",
   "execution_count": 68,
   "id": "7d547fe8-68ca-40f5-a912-a29d9c5d71ff",
   "metadata": {},
   "outputs": [],
   "source": [
    "# Aggregate variables for customer profiles for usage frequency\n",
    "freq_agg = df_new3.groupby('user_id').agg({'user_order_number': ['max', 'min', 'mean'], 'days_since_prior_order': ['max', 'min', 'mean']})"
   ]
  },
  {
   "cell_type": "code",
   "execution_count": 70,
   "id": "ed9622b9-4d8c-4f67-ba13-39ac5ab1ddd4",
   "metadata": {},
   "outputs": [
    {
     "data": {
      "text/html": [
       "<div>\n",
       "<style scoped>\n",
       "    .dataframe tbody tr th:only-of-type {\n",
       "        vertical-align: middle;\n",
       "    }\n",
       "\n",
       "    .dataframe tbody tr th {\n",
       "        vertical-align: top;\n",
       "    }\n",
       "\n",
       "    .dataframe thead tr th {\n",
       "        text-align: left;\n",
       "    }\n",
       "\n",
       "    .dataframe thead tr:last-of-type th {\n",
       "        text-align: right;\n",
       "    }\n",
       "</style>\n",
       "<table border=\"1\" class=\"dataframe\">\n",
       "  <thead>\n",
       "    <tr>\n",
       "      <th></th>\n",
       "      <th colspan=\"3\" halign=\"left\">user_order_number</th>\n",
       "      <th colspan=\"3\" halign=\"left\">days_since_prior_order</th>\n",
       "    </tr>\n",
       "    <tr>\n",
       "      <th></th>\n",
       "      <th>max</th>\n",
       "      <th>min</th>\n",
       "      <th>mean</th>\n",
       "      <th>max</th>\n",
       "      <th>min</th>\n",
       "      <th>mean</th>\n",
       "    </tr>\n",
       "    <tr>\n",
       "      <th>user_id</th>\n",
       "      <th></th>\n",
       "      <th></th>\n",
       "      <th></th>\n",
       "      <th></th>\n",
       "      <th></th>\n",
       "      <th></th>\n",
       "    </tr>\n",
       "  </thead>\n",
       "  <tbody>\n",
       "    <tr>\n",
       "      <th>1</th>\n",
       "      <td>10</td>\n",
       "      <td>1</td>\n",
       "      <td>5.813559</td>\n",
       "      <td>30.0</td>\n",
       "      <td>0.0</td>\n",
       "      <td>20.259259</td>\n",
       "    </tr>\n",
       "    <tr>\n",
       "      <th>10</th>\n",
       "      <td>5</td>\n",
       "      <td>1</td>\n",
       "      <td>3.223776</td>\n",
       "      <td>30.0</td>\n",
       "      <td>12.0</td>\n",
       "      <td>20.746377</td>\n",
       "    </tr>\n",
       "    <tr>\n",
       "      <th>100</th>\n",
       "      <td>5</td>\n",
       "      <td>1</td>\n",
       "      <td>3.555556</td>\n",
       "      <td>30.0</td>\n",
       "      <td>18.0</td>\n",
       "      <td>26.320000</td>\n",
       "    </tr>\n",
       "    <tr>\n",
       "      <th>1000</th>\n",
       "      <td>7</td>\n",
       "      <td>1</td>\n",
       "      <td>3.980583</td>\n",
       "      <td>30.0</td>\n",
       "      <td>5.0</td>\n",
       "      <td>11.647727</td>\n",
       "    </tr>\n",
       "    <tr>\n",
       "      <th>10000</th>\n",
       "      <td>72</td>\n",
       "      <td>1</td>\n",
       "      <td>35.973443</td>\n",
       "      <td>17.0</td>\n",
       "      <td>0.0</td>\n",
       "      <td>4.949580</td>\n",
       "    </tr>\n",
       "  </tbody>\n",
       "</table>\n",
       "</div>"
      ],
      "text/plain": [
       "        user_order_number                days_since_prior_order        \\\n",
       "                      max min       mean                    max   min   \n",
       "user_id                                                                 \n",
       "1                      10   1   5.813559                   30.0   0.0   \n",
       "10                      5   1   3.223776                   30.0  12.0   \n",
       "100                     5   1   3.555556                   30.0  18.0   \n",
       "1000                    7   1   3.980583                   30.0   5.0   \n",
       "10000                  72   1  35.973443                   17.0   0.0   \n",
       "\n",
       "                    \n",
       "              mean  \n",
       "user_id             \n",
       "1        20.259259  \n",
       "10       20.746377  \n",
       "100      26.320000  \n",
       "1000     11.647727  \n",
       "10000     4.949580  "
      ]
     },
     "execution_count": 70,
     "metadata": {},
     "output_type": "execute_result"
    }
   ],
   "source": [
    "freq_agg.head()"
   ]
  },
  {
   "cell_type": "markdown",
   "id": "64d1dd54-58b4-4495-a74b-26ecb7d9d989",
   "metadata": {
    "jp-MarkdownHeadingCollapsed": true
   },
   "source": [
    "## Compare your customer profiles with regions and departments"
   ]
  },
  {
   "cell_type": "code",
   "execution_count": 73,
   "id": "3a8e2133-8d26-4c0b-9f99-68d4832dd9f8",
   "metadata": {},
   "outputs": [
    {
     "data": {
      "text/html": [
       "<div>\n",
       "<style scoped>\n",
       "    .dataframe tbody tr th:only-of-type {\n",
       "        vertical-align: middle;\n",
       "    }\n",
       "\n",
       "    .dataframe tbody tr th {\n",
       "        vertical-align: top;\n",
       "    }\n",
       "\n",
       "    .dataframe thead th {\n",
       "        text-align: right;\n",
       "    }\n",
       "</style>\n",
       "<table border=\"1\" class=\"dataframe\">\n",
       "  <thead>\n",
       "    <tr style=\"text-align: right;\">\n",
       "      <th>department</th>\n",
       "      <th>alcohol</th>\n",
       "      <th>babies</th>\n",
       "      <th>bakery</th>\n",
       "      <th>beverages</th>\n",
       "      <th>breakfast</th>\n",
       "      <th>bulk</th>\n",
       "      <th>canned goods</th>\n",
       "      <th>dairy eggs</th>\n",
       "      <th>deli</th>\n",
       "      <th>dry goods pasta</th>\n",
       "      <th>...</th>\n",
       "      <th>household</th>\n",
       "      <th>international</th>\n",
       "      <th>meat seafood</th>\n",
       "      <th>missing</th>\n",
       "      <th>other</th>\n",
       "      <th>pantry</th>\n",
       "      <th>personal care</th>\n",
       "      <th>pets</th>\n",
       "      <th>produce</th>\n",
       "      <th>snacks</th>\n",
       "    </tr>\n",
       "    <tr>\n",
       "      <th>region</th>\n",
       "      <th></th>\n",
       "      <th></th>\n",
       "      <th></th>\n",
       "      <th></th>\n",
       "      <th></th>\n",
       "      <th></th>\n",
       "      <th></th>\n",
       "      <th></th>\n",
       "      <th></th>\n",
       "      <th></th>\n",
       "      <th></th>\n",
       "      <th></th>\n",
       "      <th></th>\n",
       "      <th></th>\n",
       "      <th></th>\n",
       "      <th></th>\n",
       "      <th></th>\n",
       "      <th></th>\n",
       "      <th></th>\n",
       "      <th></th>\n",
       "      <th></th>\n",
       "    </tr>\n",
       "  </thead>\n",
       "  <tbody>\n",
       "    <tr>\n",
       "      <th>Midwest</th>\n",
       "      <td>34043</td>\n",
       "      <td>95741</td>\n",
       "      <td>261753</td>\n",
       "      <td>598979</td>\n",
       "      <td>156155</td>\n",
       "      <td>7929</td>\n",
       "      <td>237459</td>\n",
       "      <td>1212490</td>\n",
       "      <td>234464</td>\n",
       "      <td>193463</td>\n",
       "      <td>...</td>\n",
       "      <td>166992</td>\n",
       "      <td>60666</td>\n",
       "      <td>158260</td>\n",
       "      <td>15563</td>\n",
       "      <td>7983</td>\n",
       "      <td>420334</td>\n",
       "      <td>100398</td>\n",
       "      <td>21358</td>\n",
       "      <td>2134115</td>\n",
       "      <td>645143</td>\n",
       "    </tr>\n",
       "    <tr>\n",
       "      <th>Northeast</th>\n",
       "      <td>25017</td>\n",
       "      <td>72712</td>\n",
       "      <td>199300</td>\n",
       "      <td>462929</td>\n",
       "      <td>117904</td>\n",
       "      <td>5599</td>\n",
       "      <td>176936</td>\n",
       "      <td>914616</td>\n",
       "      <td>178398</td>\n",
       "      <td>143817</td>\n",
       "      <td>...</td>\n",
       "      <td>124604</td>\n",
       "      <td>44678</td>\n",
       "      <td>118571</td>\n",
       "      <td>11512</td>\n",
       "      <td>6268</td>\n",
       "      <td>312731</td>\n",
       "      <td>74765</td>\n",
       "      <td>17734</td>\n",
       "      <td>1593004</td>\n",
       "      <td>493154</td>\n",
       "    </tr>\n",
       "    <tr>\n",
       "      <th>South</th>\n",
       "      <td>48813</td>\n",
       "      <td>139511</td>\n",
       "      <td>371620</td>\n",
       "      <td>859419</td>\n",
       "      <td>223172</td>\n",
       "      <td>11180</td>\n",
       "      <td>337458</td>\n",
       "      <td>1723016</td>\n",
       "      <td>333620</td>\n",
       "      <td>272813</td>\n",
       "      <td>...</td>\n",
       "      <td>230061</td>\n",
       "      <td>84649</td>\n",
       "      <td>224120</td>\n",
       "      <td>21787</td>\n",
       "      <td>11579</td>\n",
       "      <td>591754</td>\n",
       "      <td>142496</td>\n",
       "      <td>29909</td>\n",
       "      <td>3027476</td>\n",
       "      <td>916780</td>\n",
       "    </tr>\n",
       "    <tr>\n",
       "      <th>West</th>\n",
       "      <td>36754</td>\n",
       "      <td>102428</td>\n",
       "      <td>288155</td>\n",
       "      <td>650574</td>\n",
       "      <td>173619</td>\n",
       "      <td>8743</td>\n",
       "      <td>260221</td>\n",
       "      <td>1327060</td>\n",
       "      <td>257352</td>\n",
       "      <td>212043</td>\n",
       "      <td>...</td>\n",
       "      <td>178200</td>\n",
       "      <td>65998</td>\n",
       "      <td>173830</td>\n",
       "      <td>15906</td>\n",
       "      <td>8581</td>\n",
       "      <td>457886</td>\n",
       "      <td>106647</td>\n",
       "      <td>24059</td>\n",
       "      <td>2324678</td>\n",
       "      <td>711329</td>\n",
       "    </tr>\n",
       "  </tbody>\n",
       "</table>\n",
       "<p>4 rows × 21 columns</p>\n",
       "</div>"
      ],
      "text/plain": [
       "department  alcohol  babies  bakery  beverages  breakfast   bulk  \\\n",
       "region                                                             \n",
       "Midwest       34043   95741  261753     598979     156155   7929   \n",
       "Northeast     25017   72712  199300     462929     117904   5599   \n",
       "South         48813  139511  371620     859419     223172  11180   \n",
       "West          36754  102428  288155     650574     173619   8743   \n",
       "\n",
       "department  canned goods  dairy eggs    deli  dry goods pasta  ...  household  \\\n",
       "region                                                         ...              \n",
       "Midwest           237459     1212490  234464           193463  ...     166992   \n",
       "Northeast         176936      914616  178398           143817  ...     124604   \n",
       "South             337458     1723016  333620           272813  ...     230061   \n",
       "West              260221     1327060  257352           212043  ...     178200   \n",
       "\n",
       "department  international  meat seafood  missing  other  pantry  \\\n",
       "region                                                            \n",
       "Midwest             60666        158260    15563   7983  420334   \n",
       "Northeast           44678        118571    11512   6268  312731   \n",
       "South               84649        224120    21787  11579  591754   \n",
       "West                65998        173830    15906   8581  457886   \n",
       "\n",
       "department  personal care   pets  produce  snacks  \n",
       "region                                             \n",
       "Midwest            100398  21358  2134115  645143  \n",
       "Northeast           74765  17734  1593004  493154  \n",
       "South              142496  29909  3027476  916780  \n",
       "West               106647  24059  2324678  711329  \n",
       "\n",
       "[4 rows x 21 columns]"
      ]
     },
     "execution_count": 73,
     "metadata": {},
     "output_type": "execute_result"
    }
   ],
   "source": [
    "# crosstab age group vs department\n",
    "region_dept_cross = pd.crosstab(df_new3['region'], df_new3['department'], dropna = False)\n",
    "region_dept_cross"
   ]
  },
  {
   "cell_type": "code",
   "execution_count": 81,
   "id": "78878ecc-17fe-4075-8677-80bc71688693",
   "metadata": {},
   "outputs": [
    {
     "data": {
      "text/plain": [
       "<matplotlib.legend.Legend at 0x15cf9b500>"
      ]
     },
     "execution_count": 81,
     "metadata": {},
     "output_type": "execute_result"
    },
    {
     "data": {
      "image/png": "[encoded data removed]",
      "text/plain": [
       "<Figure size 800x800 with 1 Axes>"
      ]
     },
     "metadata": {},
     "output_type": "display_data"
    }
   ],
   "source": [
    "# bar chart\n",
    "region_dept_bar = region_dept_cross.plot.bar(figsize=(8,8))\n",
    "plt.legend(title='Department', bbox_to_anchor=(1.05, 1), loc='upper left', fontsize=8, title_fontsize=10)"
   ]
  },
  {
   "cell_type": "code",
   "execution_count": 83,
   "id": "2b97f5af-9bd5-496f-acc8-66edf77a3aed",
   "metadata": {},
   "outputs": [],
   "source": [
    "#export bar chart\n",
    "region_dept_bar.figure.savefig(r'/Users/yasersouri/Desktop/data analysis/Instacart Basket Analysis/04 Analysis/Visualizations/depts_region_bar.png')"
   ]
  },
  {
   "cell_type": "markdown",
   "id": "e0e16c04-4030-4c32-b49c-9b792e01918d",
   "metadata": {},
   "source": [
    "## orders by day of week"
   ]
  },
  {
   "cell_type": "code",
   "execution_count": 8,
   "id": "2c9e75f7-8325-45ae-b3d7-10121d1c4635",
   "metadata": {
    "scrolled": true
   },
   "outputs": [
    {
     "data": {
      "text/plain": [
       "Text(0.5, 0, '')"
      ]
     },
     "execution_count": 8,
     "metadata": {},
     "output_type": "execute_result"
    },
    {
     "data": {
      "image/png": "[encoded data removed]",
      "text/plain": [
       "<Figure size 640x480 with 1 Axes>"
      ]
     },
     "metadata": {},
     "output_type": "display_data"
    }
   ],
   "source": [
    "# bar chart orders by day of week\n",
    "orders_dow_bar = df_new3['orders_day_of_week'].value_counts().sort_index().plot.bar(color = 'darkred')\n",
    "orders_dow_bar.set_title('Orders by Day of Week')\n",
    "orders_dow_bar.set_xticklabels(['Saturday', 'Sunday', 'Monday', 'Tuesday', 'Wednesday', 'Thursday', 'Friday'], rotation=0)\n",
    "orders_dow_bar.set_xlabel(\"\")"
   ]
  },
  {
   "cell_type": "markdown",
   "id": "e0af3b0c-698f-40af-9ed9-a766406bf06f",
   "metadata": {},
   "source": [
    "## orders by hour of day"
   ]
  },
  {
   "cell_type": "code",
   "execution_count": 14,
   "id": "a93f41e2-9095-4134-b085-78292551ab56",
   "metadata": {},
   "outputs": [
    {
     "data": {
      "image/png": "[encoded data removed]",
      "text/plain": [
       "<Figure size 640x480 with 1 Axes>"
      ]
     },
     "metadata": {},
     "output_type": "display_data"
    }
   ],
   "source": [
    "# histogram of hours of the day\n",
    "hod_hist=df_new3['order_hour_of_day'].plot.hist(bins =45,color='darkred')"
   ]
  },
  {
   "cell_type": "markdown",
   "id": "e65c75e3-ced8-460a-8ffd-36dc34647c20",
   "metadata": {
    "jp-MarkdownHeadingCollapsed": true
   },
   "source": [
    "## loyalty vs family status"
   ]
  },
  {
   "cell_type": "code",
   "execution_count": 96,
   "id": "54d28f4e-ccf6-4942-a203-b0b779482677",
   "metadata": {},
   "outputs": [
    {
     "data": {
      "text/html": [
       "<div>\n",
       "<style scoped>\n",
       "    .dataframe tbody tr th:only-of-type {\n",
       "        vertical-align: middle;\n",
       "    }\n",
       "\n",
       "    .dataframe tbody tr th {\n",
       "        vertical-align: top;\n",
       "    }\n",
       "\n",
       "    .dataframe thead th {\n",
       "        text-align: right;\n",
       "    }\n",
       "</style>\n",
       "<table border=\"1\" class=\"dataframe\">\n",
       "  <thead>\n",
       "    <tr style=\"text-align: right;\">\n",
       "      <th>family_status</th>\n",
       "      <th>divorced/widowed</th>\n",
       "      <th>living with parents and siblings</th>\n",
       "      <th>married</th>\n",
       "      <th>single</th>\n",
       "    </tr>\n",
       "    <tr>\n",
       "      <th>loyalty_flag</th>\n",
       "      <th></th>\n",
       "      <th></th>\n",
       "      <th></th>\n",
       "      <th></th>\n",
       "    </tr>\n",
       "  </thead>\n",
       "  <tbody>\n",
       "    <tr>\n",
       "      <th>Loyal customer</th>\n",
       "      <td>882722</td>\n",
       "      <td>492749</td>\n",
       "      <td>7202500</td>\n",
       "      <td>1706122</td>\n",
       "    </tr>\n",
       "    <tr>\n",
       "      <th>New customer</th>\n",
       "      <td>403781</td>\n",
       "      <td>221779</td>\n",
       "      <td>3380651</td>\n",
       "      <td>797484</td>\n",
       "    </tr>\n",
       "    <tr>\n",
       "      <th>Regular customer</th>\n",
       "      <td>1358768</td>\n",
       "      <td>766644</td>\n",
       "      <td>11160560</td>\n",
       "      <td>2590804</td>\n",
       "    </tr>\n",
       "  </tbody>\n",
       "</table>\n",
       "</div>"
      ],
      "text/plain": [
       "family_status     divorced/widowed  living with parents and siblings  \\\n",
       "loyalty_flag                                                           \n",
       "Loyal customer              882722                            492749   \n",
       "New customer                403781                            221779   \n",
       "Regular customer           1358768                            766644   \n",
       "\n",
       "family_status      married   single  \n",
       "loyalty_flag                         \n",
       "Loyal customer     7202500  1706122  \n",
       "New customer       3380651   797484  \n",
       "Regular customer  11160560  2590804  "
      ]
     },
     "execution_count": 96,
     "metadata": {},
     "output_type": "execute_result"
    }
   ],
   "source": [
    "# Crosstab loyalty with family status\n",
    "loyalty_fam_cross = pd.crosstab(df_new3['loyalty_flag'], df_new3['family_status'], dropna = False)\n",
    "loyalty_fam_cross"
   ]
  },
  {
   "cell_type": "code",
   "execution_count": 100,
   "id": "92c04322-2a00-4a80-8c7f-0960a70bf379",
   "metadata": {},
   "outputs": [
    {
     "data": {
      "text/plain": [
       "(array([0, 1, 2]),\n",
       " [Text(0, 0, 'Loyal customer'),\n",
       "  Text(1, 0, 'New customer'),\n",
       "  Text(2, 0, 'Regular customer')])"
      ]
     },
     "execution_count": 100,
     "metadata": {},
     "output_type": "execute_result"
    },
    {
     "data": {
      "image/png": "[encoded data removed]",
      "text/plain": [
       "<Figure size 640x480 with 1 Axes>"
      ]
     },
     "metadata": {},
     "output_type": "display_data"
    }
   ],
   "source": [
    "# bar chart\n",
    "# bar chart\n",
    "loyalty_fam_bar = loyalty_fam_cross.plot.bar()\n",
    "plt.title('Loyalty by Family Status')\n",
    "plt.xlabel('')\n",
    "plt.ylabel('count')\n",
    "plt.xticks(rotation=0)\n"
   ]
  },
  {
   "cell_type": "markdown",
   "id": "172792f9-9b08-4ba0-9dcd-07777c4746f3",
   "metadata": {},
   "source": [
    "## loyalty vs dependant"
   ]
  },
  {
   "cell_type": "code",
   "execution_count": 103,
   "id": "b7eca5b5-10c9-4d5d-9208-7eb49932842d",
   "metadata": {},
   "outputs": [
    {
     "data": {
      "text/html": [
       "<div>\n",
       "<style scoped>\n",
       "    .dataframe tbody tr th:only-of-type {\n",
       "        vertical-align: middle;\n",
       "    }\n",
       "\n",
       "    .dataframe tbody tr th {\n",
       "        vertical-align: top;\n",
       "    }\n",
       "\n",
       "    .dataframe thead th {\n",
       "        text-align: right;\n",
       "    }\n",
       "</style>\n",
       "<table border=\"1\" class=\"dataframe\">\n",
       "  <thead>\n",
       "    <tr style=\"text-align: right;\">\n",
       "      <th>dependants_flag</th>\n",
       "      <th>has dependants</th>\n",
       "      <th>no dependants</th>\n",
       "    </tr>\n",
       "    <tr>\n",
       "      <th>loyalty_flag</th>\n",
       "      <th></th>\n",
       "      <th></th>\n",
       "    </tr>\n",
       "  </thead>\n",
       "  <tbody>\n",
       "    <tr>\n",
       "      <th>Loyal customer</th>\n",
       "      <td>7695249</td>\n",
       "      <td>2588844</td>\n",
       "    </tr>\n",
       "    <tr>\n",
       "      <th>New customer</th>\n",
       "      <td>3602430</td>\n",
       "      <td>1201265</td>\n",
       "    </tr>\n",
       "    <tr>\n",
       "      <th>Regular customer</th>\n",
       "      <td>11927204</td>\n",
       "      <td>3949572</td>\n",
       "    </tr>\n",
       "  </tbody>\n",
       "</table>\n",
       "</div>"
      ],
      "text/plain": [
       "dependants_flag   has dependants  no dependants\n",
       "loyalty_flag                                   \n",
       "Loyal customer           7695249        2588844\n",
       "New customer             3602430        1201265\n",
       "Regular customer        11927204        3949572"
      ]
     },
     "execution_count": 103,
     "metadata": {},
     "output_type": "execute_result"
    }
   ],
   "source": [
    "# Crosstab loyalty with dependants\n",
    "loyalty_depend_cross = pd.crosstab(df_new3['loyalty_flag'], df_new3['dependants_flag'], dropna = False)\n",
    "loyalty_depend_cross"
   ]
  },
  {
   "cell_type": "code",
   "execution_count": 105,
   "id": "c38c07b3-9feb-4f11-9549-6c12ce420a9c",
   "metadata": {},
   "outputs": [
    {
     "data": {
      "text/plain": [
       "(array([0, 1, 2]),\n",
       " [Text(0, 0, 'Loyal customer'),\n",
       "  Text(1, 0, 'New customer'),\n",
       "  Text(2, 0, 'Regular customer')])"
      ]
     },
     "execution_count": 105,
     "metadata": {},
     "output_type": "execute_result"
    },
    {
     "data": {
      "image/png": "[encoded data removed]",
      "text/plain": [
       "<Figure size 640x480 with 1 Axes>"
      ]
     },
     "metadata": {},
     "output_type": "display_data"
    }
   ],
   "source": [
    "# bar chart\n",
    "loyalty_depend_bar = loyalty_depend_cross.plot.bar()\n",
    "plt.title('Loyalty by Dependants Status')\n",
    "plt.xlabel('')\n",
    "plt.ylabel('count')\n",
    "plt.xticks(rotation=0)"
   ]
  },
  {
   "cell_type": "code",
   "execution_count": 8,
   "id": "29614f81-692d-4719-99d1-28f343ff5015",
   "metadata": {},
   "outputs": [
    {
     "data": {
      "text/plain": [
       "(30964564, 39)"
      ]
     },
     "execution_count": 8,
     "metadata": {},
     "output_type": "execute_result"
    }
   ],
   "source": [
    "df_new3.shape"
   ]
  },
  {
   "cell_type": "code",
   "execution_count": 12,
   "id": "7baa8210-98d2-42b2-a13c-6904deea982c",
   "metadata": {},
   "outputs": [],
   "source": [
    "#export bar chart\n",
    "orders_dow_bar.figure.savefig(r'/Users/yasersouri/Desktop/data analysis/Instacart Basket Analysis/04 Analysis/Visualizations/orders_dow_bar.png')"
   ]
  },
  {
   "cell_type": "code",
   "execution_count": 16,
   "id": "bc4aaa2d-9b9b-4e85-bae7-dd2189c5e09b",
   "metadata": {},
   "outputs": [],
   "source": [
    "#export bar chart\n",
    "hod_hist.figure.savefig(r'/Users/yasersouri/Desktop/data analysis/Instacart Basket Analysis/04 Analysis/Visualizations/hod_orders_hist.png')"
   ]
  },
  {
   "cell_type": "code",
   "execution_count": null,
   "id": "95fe71c9-3d6a-475e-a283-4055e72f36fe",
   "metadata": {},
   "outputs": [],
   "source": []
  }
 ],
 "metadata": {
  "kernelspec": {
   "display_name": "Python [conda env:base] *",
   "language": "python",
   "name": "conda-base-py"
  },
  "language_info": {
   "codemirror_mode": {
    "name": "ipython",
    "version": 3
   },
   "file_extension": ".py",
   "mimetype": "text/x-python",
   "name": "python",
   "nbconvert_exporter": "python",
   "pygments_lexer": "ipython3",
   "version": "3.12.7"
  }
 },
 "nbformat": 4,
 "nbformat_minor": 5
}
