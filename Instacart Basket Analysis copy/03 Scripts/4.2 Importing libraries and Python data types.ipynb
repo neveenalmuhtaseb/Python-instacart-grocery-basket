{
 "cells": [
  {
   "cell_type": "markdown",
   "id": "3d97d46e-9cf8-4a36-857c-8fd1795fbee9",
   "metadata": {},
   "source": [
    "# 01.importing libraries"
   ]
  },
  {
   "cell_type": "code",
   "execution_count": 5,
   "id": "2f61065f-6fd4-4996-8cda-94a112984b78",
   "metadata": {},
   "outputs": [],
   "source": [
    "# import libraries\n",
    "import pandas as pd\n",
    "import numpy as np\n",
    "import os"
   ]
  },
  {
   "cell_type": "markdown",
   "id": "05ac14cb-54a8-48a0-b8a1-dd3010201552",
   "metadata": {},
   "source": [
    "# 02. Data types"
   ]
  },
  {
   "cell_type": "code",
   "execution_count": 47,
   "id": "01666772-53a2-4fbd-af18-d6a905506afd",
   "metadata": {},
   "outputs": [],
   "source": [
    "x=55"
   ]
  },
  {
   "cell_type": "code",
   "execution_count": 49,
   "id": "d8e53470-79b6-4303-8db2-8d0aa45c0ff1",
   "metadata": {},
   "outputs": [],
   "source": [
    "y=45"
   ]
  },
  {
   "cell_type": "code",
   "execution_count": 51,
   "id": "77d8e405-e6cc-4425-99a4-115d77cdaf18",
   "metadata": {},
   "outputs": [
    {
     "data": {
      "text/plain": [
       "100"
      ]
     },
     "execution_count": 51,
     "metadata": {},
     "output_type": "execute_result"
    }
   ],
   "source": [
    "x+y"
   ]
  },
  {
   "cell_type": "code",
   "execution_count": 53,
   "id": "29b33002-8f25-41ee-8c68-419467eadc74",
   "metadata": {},
   "outputs": [
    {
     "data": {
      "text/plain": [
       "100"
      ]
     },
     "execution_count": 53,
     "metadata": {},
     "output_type": "execute_result"
    }
   ],
   "source": [
    "145-y"
   ]
  },
  {
   "cell_type": "code",
   "execution_count": 55,
   "id": "1c511490-e2a3-426d-862b-63d79008f2bc",
   "metadata": {},
   "outputs": [
    {
     "data": {
      "text/plain": [
       "100"
      ]
     },
     "execution_count": 55,
     "metadata": {},
     "output_type": "execute_result"
    }
   ],
   "source": [
    "x*2-10"
   ]
  },
  {
   "cell_type": "code",
   "execution_count": 57,
   "id": "f3605326-b335-4e03-ada1-1a2695e8a375",
   "metadata": {},
   "outputs": [],
   "source": [
    "s=3.59"
   ]
  },
  {
   "cell_type": "code",
   "execution_count": 59,
   "id": "5d1fd2c2-21fd-421d-88c8-6dcfc691b1a4",
   "metadata": {},
   "outputs": [],
   "source": [
    "t=1.5"
   ]
  },
  {
   "cell_type": "code",
   "execution_count": 61,
   "id": "9ef6aec5-20cd-4588-b636-7b4cc0097907",
   "metadata": {},
   "outputs": [
    {
     "data": {
      "text/plain": [
       "2.393333333333333"
      ]
     },
     "execution_count": 61,
     "metadata": {},
     "output_type": "execute_result"
    }
   ],
   "source": [
    "s/t"
   ]
  },
  {
   "cell_type": "code",
   "execution_count": 63,
   "id": "8a2e3789-1754-4b5d-b098-5b71f2285046",
   "metadata": {},
   "outputs": [],
   "source": [
    "a='career'"
   ]
  },
  {
   "cell_type": "code",
   "execution_count": 65,
   "id": "07bd4ace-800b-495d-bdca-47b0c163fb16",
   "metadata": {},
   "outputs": [],
   "source": [
    "b='foundry'"
   ]
  },
  {
   "cell_type": "code",
   "execution_count": 67,
   "id": "31b8da78-1e6b-4c5a-8762-22aac1115696",
   "metadata": {},
   "outputs": [
    {
     "data": {
      "text/plain": [
       "'careerfoundry'"
      ]
     },
     "execution_count": 67,
     "metadata": {},
     "output_type": "execute_result"
    }
   ],
   "source": [
    "a+b"
   ]
  },
  {
   "cell_type": "code",
   "execution_count": 75,
   "id": "8364bc8a-69ec-4d46-a787-afae7ea0dcdc",
   "metadata": {},
   "outputs": [],
   "source": [
    "n='my name is '"
   ]
  },
  {
   "cell_type": "code",
   "execution_count": 71,
   "id": "7a10ae38-9b41-48da-bed2-bc9d49c5881e",
   "metadata": {},
   "outputs": [],
   "source": [
    "m='Neveen'"
   ]
  },
  {
   "cell_type": "code",
   "execution_count": 77,
   "id": "1bebd5ff-b123-4b78-81b7-84c376da2e47",
   "metadata": {},
   "outputs": [
    {
     "data": {
      "text/plain": [
       "'my name is Neveen'"
      ]
     },
     "execution_count": 77,
     "metadata": {},
     "output_type": "execute_result"
    }
   ],
   "source": [
    "n+m"
   ]
  },
  {
   "cell_type": "code",
   "execution_count": 79,
   "id": "977a5de0-0db0-467b-8a17-d01b49348a6b",
   "metadata": {},
   "outputs": [],
   "source": [
    "z='no.'"
   ]
  },
  {
   "cell_type": "code",
   "execution_count": 81,
   "id": "0b1cff21-e614-4d3a-a2f1-9919842fd7bd",
   "metadata": {},
   "outputs": [
    {
     "data": {
      "text/plain": [
       "'no.no.no.no.no.no.no.no.no.no.no.no.no.no.no.no.no.no.no.no.no.no.no.no.no.no.no.no.no.no.no.no.no.no.no.no.no.no.no.no.no.no.no.no.no.no.no.no.no.no.no.no.no.no.no.no.no.no.no.no.no.no.no.no.no.no.no.no.no.no.no.no.no.no.no.no.no.no.no.no.no.no.no.no.no.no.no.no.no.no.no.no.no.no.no.no.no.no.no.no.'"
      ]
     },
     "execution_count": 81,
     "metadata": {},
     "output_type": "execute_result"
    }
   ],
   "source": [
    "z*100"
   ]
  },
  {
   "cell_type": "code",
   "execution_count": null,
   "id": "9dd5f624-1c8f-4f25-9792-608cc5d8c5bf",
   "metadata": {},
   "outputs": [],
   "source": []
  }
 ],
 "metadata": {
  "kernelspec": {
   "display_name": "Python [conda env:base] *",
   "language": "python",
   "name": "conda-base-py"
  },
  "language_info": {
   "codemirror_mode": {
    "name": "ipython",
    "version": 3
   },
   "file_extension": ".py",
   "mimetype": "text/x-python",
   "name": "python",
   "nbconvert_exporter": "python",
   "pygments_lexer": "ipython3",
   "version": "3.12.7"
  }
 },
 "nbformat": 4,
 "nbformat_minor": 5
}
